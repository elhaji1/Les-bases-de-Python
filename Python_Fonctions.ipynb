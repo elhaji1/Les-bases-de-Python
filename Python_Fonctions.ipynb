{
  "nbformat": 4,
  "nbformat_minor": 0,
  "metadata": {
    "colab": {
      "name": "Python_Fonctions.ipynb",
      "provenance": [],
      "toc_visible": true
    },
    "kernelspec": {
      "name": "python3",
      "display_name": "Python 3"
    }
  },
  "cells": [
    {
      "cell_type": "markdown",
      "metadata": {
        "id": "5Snij5f2fOIO"
      },
      "source": [
        "# <font color=\"blue\"> Python: les fonctions"
      ]
    },
    {
      "cell_type": "markdown",
      "metadata": {
        "id": "sCnonV1ShxEF"
      },
      "source": [
        "Une fonction est un sous-programme, c'est-à- dire un ensemble d'instructions exécuté pour réaliser un traitement bien déterminé.\n",
        "<p> L'usage des fonctions dans les programmes représente plusieurs avantages tels que la lisibilité du code et par conséquence sa maintenance et son évoltion, mais également la réutilisabilté de ces fonctions dans d'autres programmes par un simple appel.</p>\n",
        "<p>On distingue deux types principaux de fonctions:</p>\n",
        "**+ Fonctions prédéfinies:**\n",
        "<p>Ce sont des fonctions péalablement définies et intégrées dans les bibliothèques standards comme: print(), par exemple.<p>\n",
        "**+  Fonctions utilisateur:**\n",
        "<p> Ce sont des fonctions écrites par les utilisateurs pour faires des traitements spécifiues selon les besoins.</p>\n",
        "Ce colab se contente de présenter comment définir, élaborer et appliquer une fonction sous python.\n",
        "Syntaxe:\n",
        "D'une manière générale, une fonction pythons s'écrit de la façon suivante:\n",
        "\n",
        "\n",
        "```\n",
        " def nomDeFonction(arg1, arg2,...,argn):\n",
        "    instructions\n",
        "```\n",
        "\n"
      ]
    },
    {
      "cell_type": "markdown",
      "metadata": {
        "id": "jG54vc1Xfpz7"
      },
      "source": [
        "## <font color=red> Exemple 1: définition d'une fonction simple sans arguments et sans valeur de retour."
      ]
    },
    {
      "cell_type": "markdown",
      "metadata": {
        "id": "tyBqe7VWmhK-"
      },
      "source": [
        "Dans cet exemple, je définie une fonction très simple sans argument et sans valeur de routeur. son appel va afficher *bonjour tout le monde*."
      ]
    },
    {
      "cell_type": "markdown",
      "metadata": {
        "id": "qP8bX6ajLYpO"
      },
      "source": [
        ""
      ]
    },
    {
      "cell_type": "code",
      "metadata": {
        "id": "P-BkioaALYEF"
      },
      "source": [
        ""
      ],
      "execution_count": null,
      "outputs": []
    },
    {
      "cell_type": "code",
      "metadata": {
        "id": "m02RuEKtLXX8"
      },
      "source": [
        ""
      ],
      "execution_count": null,
      "outputs": []
    },
    {
      "cell_type": "code",
      "metadata": {
        "id": "qCp1ZFcQf4QG"
      },
      "source": [
        "#Définition de la fonction\n",
        "def bonjour():\n",
        "  print(\"bonjour tout le monde\")\n"
      ],
      "execution_count": null,
      "outputs": []
    },
    {
      "cell_type": "code",
      "metadata": {
        "id": "RrybsOjCmR0K",
        "colab": {
          "base_uri": "https://localhost:8080/",
          "height": 34
        },
        "outputId": "605183c5-a3d0-4f7a-b725-a4ccf46abaee"
      },
      "source": [
        "#appel(utilisation) de la fonction déjà définie\n",
        "bonjour()"
      ],
      "execution_count": null,
      "outputs": [
        {
          "output_type": "stream",
          "text": [
            "bonjour tout le monde\n"
          ],
          "name": "stdout"
        }
      ]
    },
    {
      "cell_type": "markdown",
      "metadata": {
        "id": "SjlvcgLfm3qN"
      },
      "source": [
        "## <font color=red> Exemple 2: définition d'une fonction sans agruments avec une valeur de retour"
      ]
    },
    {
      "cell_type": "markdown",
      "metadata": {
        "id": "Tecy90p_m-xs"
      },
      "source": [
        "Dans cet exemple, je définis une fonction sans arguments, mais qui retourne une valeur.\n",
        "<p> cette fonction calcule la somme de deux entiers saisis au clavier et retourne cette somme."
      ]
    },
    {
      "cell_type": "code",
      "metadata": {
        "id": "YRRt9JMgoXHG"
      },
      "source": [
        "#définition\n",
        "def somme():\n",
        "  a=int(input(\"saisir la première valeur: \\n\"))\n",
        "  b=int(input(\"saisir la deuxième valeur: \\n\"))\n",
        "  return a+b"
      ],
      "execution_count": null,
      "outputs": []
    },
    {
      "cell_type": "code",
      "metadata": {
        "id": "AyuIUDmMo8Qm"
      },
      "source": [
        "# appel de la fonction\n",
        "somme()"
      ],
      "execution_count": null,
      "outputs": []
    },
    {
      "cell_type": "markdown",
      "metadata": {
        "id": "H4K9WAhGpcli"
      },
      "source": [
        "## <font color=red> Exemple 3: définition d'une fonction avec agruments et  valeur de retour"
      ]
    },
    {
      "cell_type": "markdown",
      "metadata": {
        "id": "5kczCwMvpi7o"
      },
      "source": [
        "Dans cet troisième exemple je définis une fonction avec des arguments et qui retourne une valeur. généralement c'est l'utilisation la plus répandue des fonctions. Les arguments permettent d'échnager l'information avec le programme principal. ce dernier passe des informations à la fonction sous formes des arguments, la fonction fait le traitment programmé et retourne le résultat au programme principal à l'aide de l'instruction *return*.\n",
        "<p> **Remarque:** </p>\n",
        "Généralement la saisie des données se fait dans le programme principal et non dans la fonction. comme le montre l'exemple suivant:"
      ]
    },
    {
      "cell_type": "code",
      "metadata": {
        "id": "R4gi8F51qTIm"
      },
      "source": [
        "#définition de la fonction\n",
        "def somme(x,y):\n",
        "  return x+y"
      ],
      "execution_count": null,
      "outputs": []
    },
    {
      "cell_type": "code",
      "metadata": {
        "id": "VuqWADvzqtVS"
      },
      "source": [
        "#utilisation de la fonction dans un programme\n",
        "a=eval(input(\"saisir un premier nombre: \\t\"))\n",
        "b=eval(input(\"saisir un deuxième nombre: \\t\"))\n",
        "print(\"La somme est: \", somme(a,b))"
      ],
      "execution_count": null,
      "outputs": []
    },
    {
      "cell_type": "markdown",
      "metadata": {
        "id": "6i10HZLSrYRb"
      },
      "source": [
        "**Commantaire:**\n",
        "+ la fonction eval permet.....\n",
        "+ le nombre des arguments dans l'appel de la fonction (paramètres réels) doit correspondre au nombre et aux types des arguments dans la définition de la fonction."
      ]
    },
    {
      "cell_type": "markdown",
      "metadata": {
        "id": "ukiWtGTbsNOo"
      },
      "source": [
        "## <font color=red> Exemple 4: une fonction avec un agument, une valeur de retour implémantant une boucle"
      ]
    },
    {
      "cell_type": "markdown",
      "metadata": {
        "id": "R0G1eQKm3GG7"
      },
      "source": [
        ""
      ]
    },
    {
      "cell_type": "markdown",
      "metadata": {
        "id": "aVX1__VPsU6v"
      },
      "source": [
        "cette fonction reçoit en paramètre un nombre entier N, puis elle calcul la somme des valeurs paires compris entre 1 et N, enfin elle retourne le résultat."
      ]
    },
    {
      "cell_type": "code",
      "metadata": {
        "id": "YOZ8cBNEuFhM"
      },
      "source": [
        "#définition de la fonction\n",
        "def sommeNbrPaires(x):\n",
        "  som=0 #initialisation de la variable som\n",
        "  for i in range(1,x+1):\n",
        "    if(i%2==0):\n",
        "      som=som+i\n",
        "  return som"
      ],
      "execution_count": null,
      "outputs": []
    },
    {
      "cell_type": "code",
      "metadata": {
        "id": "P-9qpjonu0y_"
      },
      "source": [
        "#utilisation de la fonction\n",
        "N=int(input(\"Entrer la valeur de N: \\t\"))\n",
        "print(\"L somme demandée est: \\t\", sommeNbrPaires(N))"
      ],
      "execution_count": null,
      "outputs": []
    },
    {
      "cell_type": "markdown",
      "metadata": {
        "id": "gEwrxrrSw9xq"
      },
      "source": [
        "## <font color=red>Exercices corrigés"
      ]
    },
    {
      "cell_type": "markdown",
      "metadata": {
        "id": "7B31lk6yxMzY"
      },
      "source": [
        "1. **Réecrire la fonction de l'exemple 4 en utilisant la boucle while et en calculant la somme des éléments impaires.** "
      ]
    },
    {
      "cell_type": "code",
      "metadata": {
        "id": "yLHhlcPVxevW",
        "colab": {
          "base_uri": "https://localhost:8080/",
          "height": 51
        },
        "outputId": "cc21d4f2-ddfc-47a9-a88b-b62a86a073f9"
      },
      "source": [
        "#définition de la fonction\n",
        "def sommeNbrPaires(x):\n",
        "  som=0 #initialisation de la variable som\n",
        "  i=1 #initialisation de i\n",
        "  while i<=x:\n",
        "    if(i%2!=0):\n",
        "      som=som+i\n",
        "    i=i+1\n",
        "  return som\n",
        "#programme principal\n",
        "N=int(input(\"Entrer la valeur de N: \\t\"))\n",
        "print(\"L somme demandée est: \\t\", sommeNbrPaires(N))"
      ],
      "execution_count": null,
      "outputs": [
        {
          "output_type": "stream",
          "text": [
            "Entrer la valeur de N: \t10\n",
            "L somme demandée est: \t 25\n"
          ],
          "name": "stdout"
        }
      ]
    },
    {
      "cell_type": "markdown",
      "metadata": {
        "id": "VoYJQOU_ybnu"
      },
      "source": [
        "+ **Commentaire**\n",
        "<p> Attention: l'initialisation du compteur i se fait dans la boucle pour la boucle ***for***, par contre il faut l'initialiser explicitement avant la boucle et également l'incrémenter explicitement dans la boucle while"
      ]
    },
    {
      "cell_type": "markdown",
      "metadata": {
        "id": "t96auVYDzP11"
      },
      "source": [
        "2. On s’intéresse dans cet exercice au traitement des notes d’une classe constituée de N étudiants. Ces notes sont représentées par une série statistique de valeurs réelles. La série statistique sera représentée par une liste. \n",
        "+ N est une valeur demandée par le programme et comprise entre 5 et 30. Toute autre valeur sera refusée.\n",
        "+ Les notes sont des valeurs réelles comprises entre 0 et 20. Toute autre valeur sera refusée.\n",
        "<p>a. Ecrire une fonction moyenneSrie (?) qui  calcule et retourne la moyenne.\n",
        "<p>b. Ecrire une fonction maxSerie(?) qui calcule et retourne la plus grande valeur de la liste.\n",
        "<p>c. Ecrire une fonction minSerie(?) calcule et retourne la plus petite valeur de la liste.\n",
        "<p>d. Ecrire une fonction supMoySerie(?) calcule et retourne le nombre de valeurs supérieures à la moyenne.\n",
        "<p>e. Ecrire une fonction infMoySerie(?) calcule et retourne le nombre de valeurs inférieures à la moyenne.\n"
      ]
    },
    {
      "cell_type": "markdown",
      "metadata": {
        "id": "GCVt-hUX3Lpg"
      },
      "source": [
        "## <font color=red> Les fonctions récursives"
      ]
    },
    {
      "cell_type": "markdown",
      "metadata": {
        "id": "i3LuUKTd3WWA"
      },
      "source": [
        "**Définition :** Une fonction récursive est une fonction qui s’appelle elle-même.\n",
        "+ La récursivité rend les algorithmes très rapides, elle est basée sur la récurrence.\n",
        "\n",
        "+ La récursivité est une autre structure de contrôle. Elle permet essentiellement la répétition d’un traitement sans utiliser une boucle.\n",
        "\n",
        "+ Tout problème résolu de manière récursive peut être résolu avec des itérations non-récursives.\n"
      ]
    },
    {
      "cell_type": "markdown",
      "metadata": {
        "id": "QCD4P1Aq3pTV"
      },
      "source": [
        "**Exemple 1 :** \n",
        "\n",
        "Ecrire une fonction *fact(n)* qui prend en paramètre un entier positif et retourne sa factorielle.\n",
        "Mathématiquement on a !\n",
        "\n",
        "\n",
        "```\n",
        "0! = 1;\n",
        "n! = n * (n - 1)!  Pour n > 0\n",
        "\n",
        "```\n",
        "\n"
      ]
    },
    {
      "cell_type": "code",
      "metadata": {
        "id": "08OdvJ0L3683",
        "colab": {
          "base_uri": "https://localhost:8080/",
          "height": 51
        },
        "outputId": "d558471f-d5a8-483f-a96e-23d545af2e23"
      },
      "source": [
        "#Définition de la fonction\n",
        "def fact(n):\n",
        "  if n==0:\n",
        "    return 1\n",
        "  else:\n",
        "    return n*fact(n-1)\n",
        "\n",
        "#utilisation de la fonction\n",
        "n=int(input(\"Saisir la valeur de n : \\t\"))\n",
        "print(\"La factorielle de \", n, \" est: \", fact(n))\n",
        "  "
      ],
      "execution_count": null,
      "outputs": [
        {
          "output_type": "stream",
          "text": [
            "Saisir la valeur de n : \t5\n",
            "La factorielle de  5  est:  120\n"
          ],
          "name": "stdout"
        }
      ]
    },
    {
      "cell_type": "markdown",
      "metadata": {
        "id": "GcvfsKx0oYtp"
      },
      "source": [
        "\n",
        "\n",
        "```\n",
        "Exécution illistratif:\n",
        "Système: Saisir la valeur de n:\n",
        "Uilisateur: 5\n",
        "Système: factorielle= 5*fact(5-1)\n",
        "                    = 5*4*fact(4-1)\n",
        "                    =5*4*3*fact(3-1)\n",
        "                    =5*4*3*2*fact(2-1)\n",
        "                    =5*4*3*2*1\n",
        "                    =stop\n",
        "Système: affiche le résultat\n",
        "Donc pour toute valeur de n > 1 la fonction s'appelle elle même.\n",
        "\n",
        "```\n",
        "\n"
      ]
    },
    {
      "cell_type": "markdown",
      "metadata": {
        "id": "rW7HM3In5Rki"
      },
      "source": [
        "+ **Exemple 2:**\n",
        "<p> La suite de Fibonacci, définie par :\n",
        "\n",
        "```\n",
        "u0 = u1 =1\n",
        "un = un-1 + un-2 pour n > 1\n",
        "```\n",
        "Ecrire une fonction récursive ***FiboR(n)*** qui prend en paramètre un entier ***n*** et renvoie la valeur correspondante.\n",
        "\n",
        "On donne ci-dessous la ***fonction itérative*** correspondante\n",
        "\n",
        "\n",
        "```\n",
        "def fibo_it(i):\n",
        "\ta,b,cpt=0,1,0\n",
        "\twhile cpt <= i:\n",
        "\t\tif cpt < 2 :\n",
        "\t\t\tc = cpt\n",
        "\t\telse :\t\n",
        "\t\t\tc=a+b\t\n",
        "\t\t\ta=b\n",
        "\t\t\tb=c\n",
        "\t\tcpt+=1\n",
        "\treturn c\n",
        "\n",
        "```\n",
        "\n",
        "\n"
      ]
    },
    {
      "cell_type": "markdown",
      "metadata": {
        "id": "cdEO57WF6Jxc"
      },
      "source": [
        "## <font color=red> Les fonctions Lambda"
      ]
    },
    {
      "cell_type": "markdown",
      "metadata": {
        "id": "2kZbKBwB7j9-"
      },
      "source": [
        "Une fonction lamda est une fonction anonyme (sans nom), que l'on peut appeler et réutiliser comme une foncation.\n",
        "<p> les fonctions lamda sont généralement utilisées pour des traitement courts qui ne nécessaite pas beaucoup d'instructions. \n",
        "<p> la syntaxe d'une fonction lamda est la suivante:\n",
        "\n",
        "\n",
        "```\n",
        "lambda arg1, arg2, ...argn: bloc instructions\n",
        "```\n",
        "\n"
      ]
    },
    {
      "cell_type": "code",
      "metadata": {
        "id": "4DGdnEB08orL",
        "colab": {
          "base_uri": "https://localhost:8080/",
          "height": 34
        },
        "outputId": "75ecbe91-5248-4cf9-ba73-054bd59682ff"
      },
      "source": [
        "x=lambda a,b:a+b\n",
        "x(10,5)\n"
      ],
      "execution_count": null,
      "outputs": [
        {
          "output_type": "execute_result",
          "data": {
            "text/plain": [
              "15"
            ]
          },
          "metadata": {
            "tags": []
          },
          "execution_count": 21
        }
      ]
    }
  ]
}