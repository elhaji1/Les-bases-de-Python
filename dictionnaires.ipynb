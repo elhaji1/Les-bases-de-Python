{
  "nbformat": 4,
  "nbformat_minor": 0,
  "metadata": {
    "colab": {
      "name": "dictionnaires.ipynb",
      "provenance": [],
      "authorship_tag": "ABX9TyMwujCdor27x3NWsN7xeRL8",
      "include_colab_link": true
    },
    "kernelspec": {
      "name": "python3",
      "display_name": "Python 3"
    }
  },
  "cells": [
    {
      "cell_type": "markdown",
      "metadata": {
        "id": "view-in-github",
        "colab_type": "text"
      },
      "source": [
        "<a href=\"https://colab.research.google.com/github/elhaji1/Les-bases-de-Python/blob/master/dictionnaires.ipynb\" target=\"_parent\"><img src=\"https://colab.research.google.com/assets/colab-badge.svg\" alt=\"Open In Colab\"/></a>"
      ]
    },
    {
      "cell_type": "markdown",
      "metadata": {
        "id": "T7QynSvODxK1"
      },
      "source": [
        "# <font color=\"blue\">Les objets dictionnaire</font>"
      ]
    },
    {
      "cell_type": "markdown",
      "metadata": {
        "id": "YIItMh_uD9D_"
      },
      "source": [
        "## <font color=\"blue\">Définition</font>:\n",
        "<p>\n",
        "Un dictionnaire est un objet défini sur la base de clé-valeur. Contrairement aux autres objets tels que les listes, arrays et tuples dont les éléments sont identifiés par leur indice, les éléments d'un dictionnaire sont identifiés par leur clé.\n",
        "</p>\n",
        "<p>\n",
        "Un dictionnaire est donc une collection d'objets formée de couples clé-valeur, séparés par des virgules et spécifiés à l'intérieur des accolades.\n",
        "</p>\n",
        "<p>\n",
        "**Remqraque:**</br>\n",
        "Les dictionnaires ne sont pas des séquences.\n",
        "Les éléments que nous allons y enregistrer ne seront pas disposés dans un ordre immuable."
      ]
    },
    {
      "cell_type": "markdown",
      "metadata": {
        "id": "-ByY9qCb2OJB"
      },
      "source": [
        "## <font color=blue> Création d'un dictionnaire </font>\n",
        "Le dictionnaire est un type **modifiable**, il est possible alors de créer un dictionnaire vide, puis le remplir au fur et à mesure. Syntaxiquement les éléments d'un dictionnaire sont enfermés dans une paire d’accolades. Un dictionnaire vide sera donc noté <font color=red> { } </font>:\n",
        "\n"
      ]
    },
    {
      "cell_type": "code",
      "metadata": {
        "colab": {
          "base_uri": "https://localhost:8080/"
        },
        "id": "frywIdY33lZl",
        "outputId": "807f7ddd-f646-49a7-8bc5-5cdecb1c0351"
      },
      "source": [
        "#création d'un dictionnaire vide\n",
        "dico1={}\n",
        "#ajouter un élément (clé, valeur)\n",
        "dico1[\"nom_etudiant\"]=\"ERRIYAHI\"\n",
        "print(dico1)\n",
        "dico1[\"prenom_etudiant\"]=\"Said\"\n",
        "print(dico1)\n",
        "dico1[\"Moyenne\"]=15\n",
        "print(dico1)\n",
        "#Exemple d'une clé à plusieurs valeurs\n",
        "dico2={\"Etudiant 1\":[\"Nachat\",\"Mohamed\",17]}\n",
        "print(dico2)"
      ],
      "execution_count": null,
      "outputs": [
        {
          "output_type": "stream",
          "text": [
            "{'nom_etudiant': 'ERRIYAHI'}\n",
            "{'nom_etudiant': 'ERRIYAHI', 'prenom_etudiant': 'Said'}\n",
            "{'nom_etudiant': 'ERRIYAHI', 'prenom_etudiant': 'Said', 'Moyenne': 15}\n",
            "{'Etudiant 1': ['Nachat', 'Mohamed', 17]}\n"
          ],
          "name": "stdout"
        }
      ]
    },
    {
      "cell_type": "markdown",
      "metadata": {
        "id": "iOXgMyK17TI-"
      },
      "source": [
        "<font color=red>Remarque</font> <br>\n",
        "L'ordre des éléments d'un dictionnaire n'a aucune importance (except l'organisation)."
      ]
    },
    {
      "cell_type": "markdown",
      "metadata": {
        "id": "oVQl0XaOI10T"
      },
      "source": [
        "## <font color=\"blue\">Slicing d'un dictionaire dans le cas d'une clé à une seule valeur</font>:"
      ]
    },
    {
      "cell_type": "code",
      "metadata": {
        "id": "DpA2NpHuDvtQ",
        "colab": {
          "base_uri": "https://localhost:8080/",
          "height": 35
        },
        "outputId": "dc543a9f-4cd0-4abe-962b-2faef02a13d2"
      },
      "source": [
        "#Exemple 1: clé à une seule valeur\n",
        "dico1[\"nom_etudiant\"] #renvoie la valeur correspond à la clé nom_etudiant (ERRIYAHI dans ce cas)\n",
        "dico1[\"Moyenne\"] #renvoie la valeur correspond à la clé Moyenne (17 dans ce cas)\n",
        "#la méthode get\n",
        "dico1.get(\"nom_etudiant\")\n",
        "#vous pouvez afficher une valeur par défaut si la clé est introuvable\n",
        "dico1.get('nom','clé introuvable')#renvoie 'clé introuvable'"
      ],
      "execution_count": null,
      "outputs": [
        {
          "output_type": "execute_result",
          "data": {
            "application/vnd.google.colaboratory.intrinsic+json": {
              "type": "string"
            },
            "text/plain": [
              "'clé introuvable'"
            ]
          },
          "metadata": {
            "tags": []
          },
          "execution_count": 2
        }
      ]
    },
    {
      "cell_type": "markdown",
      "metadata": {
        "id": "-v3jXwImJHcQ"
      },
      "source": [
        "## <font color=\"blue\">Slicing d'un dictionaire dans le cas d'une clé à plusieurs valeur</font>:"
      ]
    },
    {
      "cell_type": "code",
      "metadata": {
        "id": "FEEhUeAGG_ZS",
        "colab": {
          "base_uri": "https://localhost:8080/"
        },
        "outputId": "856f55e1-fe12-4d56-ab1c-2821c38984fa"
      },
      "source": [
        "#Exemple 2: clé à plusieurs valeurs\n",
        "dico2['Etudiant 1'][0]#renvoie la première valeur correspondant à la clé (Nachat dans ce cas)\n",
        "dico2['Etudiant 1'][:]#['Nachat', 'Mohamed', 17]"
      ],
      "execution_count": null,
      "outputs": [
        {
          "output_type": "execute_result",
          "data": {
            "text/plain": [
              "['Nachat', 'Mohamed', 17]"
            ]
          },
          "metadata": {
            "tags": []
          },
          "execution_count": 3
        }
      ]
    },
    {
      "cell_type": "markdown",
      "metadata": {
        "id": "r9xU2WB4JPAo"
      },
      "source": [
        "## <font color=\"blue\">Les Méthodes .keys(), .values() et .items()</font>:"
      ]
    },
    {
      "cell_type": "code",
      "metadata": {
        "id": "QMEaOwjlJZBL",
        "colab": {
          "base_uri": "https://localhost:8080/"
        },
        "outputId": "fe34431d-a9a9-49ec-ec32-e160f3e9931f"
      },
      "source": [
        "cles=dico1.keys()#dict_keys(['prenom_etudiant', 'nomEtudiant'])\n",
        "#on peut transformer l'objet dic retourné en objet liste\n",
        "cles_liste=list(cles) \n",
        "cles_liste\n",
        "valeurs=dico1.values()#renvoie dict_values(['Said', 'ERRIYAHI'])\n",
        "valeurs_liste=list(valeurs)#renvoie une liste de values ['Said', 'ERRIYAHI']\n",
        "valeurs_liste\n",
        "cles_valeurs=dico1.items()# renvoie dict_items([('prenom_etudiant', 'Said'), ('nomEtudiant', 'ERRIYAHI')])\n",
        "cles_valeurs_liste=list(cles_valeurs)# renvoie [('prenom_etudiant', 'Said'), ('nomEtudiant', 'ERRIYAHI')]\n",
        "cles_valeurs_liste"
      ],
      "execution_count": null,
      "outputs": [
        {
          "output_type": "execute_result",
          "data": {
            "text/plain": [
              "[('prenom_etudiant', 'Said'), ('nomEtudiant', 'ERRIYAHI')]"
            ]
          },
          "metadata": {
            "tags": []
          },
          "execution_count": 28
        }
      ]
    },
    {
      "cell_type": "markdown",
      "metadata": {
        "id": "tBY7I6zBJhor"
      },
      "source": [
        "## <font color=\"blue\">Suppression une entrée</font>:"
      ]
    },
    {
      "cell_type": "code",
      "metadata": {
        "id": "t5PmsiHbJqKm"
      },
      "source": [
        "del dico1[\"Moyenne\"]# supprime la clé 'Moyenne' et toutes les valeurs correspondantes! "
      ],
      "execution_count": null,
      "outputs": []
    },
    {
      "cell_type": "markdown",
      "metadata": {
        "id": "Tmw0DgxxJscR"
      },
      "source": [
        "## <font color=\"blue\">Renommer une clé</font>:"
      ]
    },
    {
      "cell_type": "code",
      "metadata": {
        "id": "GIcVHf9QJ1Zj",
        "colab": {
          "base_uri": "https://localhost:8080/"
        },
        "outputId": "32ff0730-7765-4ed8-9ced-af38284afa1c"
      },
      "source": [
        "#renommer une clé\n",
        "\n",
        "dico1[\"nomEtudiant\"]=dico1.pop(\"nom_etudiant\") #nomEtudiant est le nouveau nom"
      ],
      "execution_count": null,
      "outputs": [
        {
          "output_type": "execute_result",
          "data": {
            "text/plain": [
              "{'nomEtudiant': 'ERRIYAHI', 'prenom_etudiant': 'Said'}"
            ]
          },
          "metadata": {
            "tags": []
          },
          "execution_count": 17
        }
      ]
    },
    {
      "cell_type": "markdown",
      "metadata": {
        "id": "b35R0MfPJ3Ck"
      },
      "source": [
        "## <font color=\"blue\">Teste l'existence d'une clé en utilisant la fonction in</font>:"
      ]
    },
    {
      "cell_type": "code",
      "metadata": {
        "id": "Y52ZSyLxKCoP",
        "colab": {
          "base_uri": "https://localhost:8080/"
        },
        "outputId": "170b1368-2411-4584-c9b9-ec1e4d76c594"
      },
      "source": [
        "\"fonction\" in dico1#renvoie False\n",
        "\"prenom_etudiant\" in dico1#renvoie True"
      ],
      "execution_count": null,
      "outputs": [
        {
          "output_type": "execute_result",
          "data": {
            "text/plain": [
              "True"
            ]
          },
          "metadata": {
            "tags": []
          },
          "execution_count": 20
        }
      ]
    },
    {
      "cell_type": "markdown",
      "metadata": {
        "id": "9m9-_bTFKJVq"
      },
      "source": [
        "## <font color=\"blue\">Récupérer les clés et les valeurs en utilisant les fonctions:keys() et values()</font>:"
      ]
    },
    {
      "cell_type": "markdown",
      "metadata": {
        "id": "SwAvbaVRMg7c"
      },
      "source": [
        ""
      ]
    },
    {
      "cell_type": "code",
      "metadata": {
        "id": "C2ansUBmKWcU",
        "colab": {
          "base_uri": "https://localhost:8080/"
        },
        "outputId": "595124c8-a05a-44a7-de6f-d2b610fd1483"
      },
      "source": [
        "for cle in dico1.keys():\n",
        "  print(cle)"
      ],
      "execution_count": null,
      "outputs": [
        {
          "output_type": "stream",
          "text": [
            "nom_etudiant\n",
            "prenom_etudiant\n"
          ],
          "name": "stdout"
        }
      ]
    },
    {
      "cell_type": "markdown",
      "metadata": {
        "id": "MRvdoN_BIjS-"
      },
      "source": [
        "## <font color=\"blue\">Récupérer les valeurs en utilisant les fonctions:values()</font>:"
      ]
    },
    {
      "cell_type": "code",
      "metadata": {
        "colab": {
          "base_uri": "https://localhost:8080/"
        },
        "id": "GEKHpqzgItY_",
        "outputId": "98262422-bb52-4e48-b7dc-934ae5413e3e"
      },
      "source": [
        "for valeur in dico1.values():\n",
        "  print(valeur)"
      ],
      "execution_count": null,
      "outputs": [
        {
          "output_type": "stream",
          "text": [
            "ERRIYAHI\n",
            "Said\n"
          ],
          "name": "stdout"
        }
      ]
    },
    {
      "cell_type": "markdown",
      "metadata": {
        "id": "6ycJYtXwI_77"
      },
      "source": [
        "## <font color=blue>Récupérer les pairs clé-valeurs en utilisant les fonctions:</font><font color=red>items()</font>:"
      ]
    },
    {
      "cell_type": "code",
      "metadata": {
        "colab": {
          "base_uri": "https://localhost:8080/"
        },
        "id": "HFoZGWiJR2N1",
        "outputId": "40f2af54-5dd4-4a87-8e03-58ddb35efa5f"
      },
      "source": [
        "for cle, valeur in dico1.items():\n",
        "  print(cle,\":\",valeur)"
      ],
      "execution_count": null,
      "outputs": [
        {
          "output_type": "stream",
          "text": [
            "prenom_etudiant : Said\n",
            "nomEtudiant : ERRIYAHI\n"
          ],
          "name": "stdout"
        }
      ]
    },
    {
      "cell_type": "markdown",
      "metadata": {
        "id": "fJfXsg7dSxqM"
      },
      "source": [
        "# <font color=below>**Exercices**</font>\n",
        "# 1. On dispose d’un dictionnaire associant à des noms de commerciaux d’une société le nombre de ventes qu’ils ont réalisées. Par exemple :\n",
        "\n"
      ]
    },
    {
      "cell_type": "code",
      "metadata": {
        "id": "kIVy6cbhwaM_"
      },
      "source": [
        "ventes={\"Dupont\":14, \"Hervy\":19, \"Geoffroy\":15, \"Layec\":21}"
      ],
      "execution_count": null,
      "outputs": []
    },
    {
      "cell_type": "markdown",
      "metadata": {
        "id": "384-oc_LSxPA"
      },
      "source": [
        "# a.Écrivez une fonction qui prend en entrée un tel dictionnaire et renvoie le nombre total de ventes dans la société.\n"
      ]
    },
    {
      "cell_type": "code",
      "metadata": {
        "id": "plZ_MBVNcnV6"
      },
      "source": [
        "def myDic(dic):"
      ],
      "execution_count": null,
      "outputs": []
    },
    {
      "cell_type": "markdown",
      "metadata": {
        "id": "YfeWAFgWcrqC"
      },
      "source": [
        "# b.Écrivez une fonction qui prend en entrée un tel dictionnaire et renvoie le nom du vendeur ayant réalisé le plus de ventes. Si plusieurs vendeurs sont ex-aequo sur ce critère, la fonction devra retourner le nom de l’un d’entre eux."
      ]
    },
    {
      "cell_type": "code",
      "metadata": {
        "id": "HiY6FSS3cuc7"
      },
      "source": [
        "def celuiRealiserMaxVente(dic):"
      ],
      "execution_count": null,
      "outputs": []
    },
    {
      "cell_type": "markdown",
      "metadata": {
        "id": "9eTailfac4ZZ"
      },
      "source": [
        "##2. On dispose d’un dictionnaire associant à des noms de personnes leur âge, et leur genre (F ou M). Par exemple :"
      ]
    },
    {
      "cell_type": "code",
      "metadata": {
        "id": "wkyo6M_2fMvz"
      },
      "source": [
        "prsonnel={\"Sersif\":[32,\"M\"],\"Bekkar\":[45,F],\"Imlahi\":[25,M]}"
      ],
      "execution_count": null,
      "outputs": []
    },
    {
      "cell_type": "markdown",
      "metadata": {
        "id": "lrh_VfaAfwCH"
      },
      "source": [
        "## a. Ecrire une fonction qui permet d'ajouter une personne"
      ]
    },
    {
      "cell_type": "code",
      "metadata": {
        "id": "g44TxGWBgYF-"
      },
      "source": [
        "def ajouterPersonne(dic):"
      ],
      "execution_count": null,
      "outputs": []
    },
    {
      "cell_type": "markdown",
      "metadata": {
        "id": "VzS5M3aVf8OZ"
      },
      "source": [
        "## b. Ecrire une fonction qui retourne la pesonne la plus âgée"
      ]
    },
    {
      "cell_type": "code",
      "metadata": {
        "id": "P0J0xA7CgaDj"
      },
      "source": [
        "def peronneAgee(dic):"
      ],
      "execution_count": null,
      "outputs": []
    },
    {
      "cell_type": "markdown",
      "metadata": {
        "id": "Clby7v7sgJwi"
      },
      "source": [
        "## c. Ecrire une fonction qui retourne le nombre de femmes\n"
      ]
    },
    {
      "cell_type": "code",
      "metadata": {
        "id": "rLPVAsh4gb52"
      },
      "source": [
        "def nombreFemme():"
      ],
      "execution_count": null,
      "outputs": []
    }
  ]
}