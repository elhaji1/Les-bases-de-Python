{
  "nbformat": 4,
  "nbformat_minor": 0,
  "metadata": {
    "colab": {
      "name": "Les structures itératives.ipynb",
      "provenance": [],
      "authorship_tag": "ABX9TyODWyPUifeJSKlm62E0xHAr"
    },
    "kernelspec": {
      "name": "python3",
      "display_name": "Python 3"
    }
  },
  "cells": [
    {
      "cell_type": "markdown",
      "metadata": {
        "id": "nM-ENmuJjIt7"
      },
      "source": [
        "# <font color=\"blue\"> **Les structures itératives**"
      ]
    },
    {
      "cell_type": "markdown",
      "metadata": {
        "id": "M5iTWoFPjfbS"
      },
      "source": [
        "## Problème: Partons d'un exemple!\n",
        "<p>\n",
        "si on vous demande d'afficher sur Ecran la phrase :\"Bonjour tout le monde\" dix fois. Avec ce que vous venez d'étudier précédement, vous allez écrire dix fois l'instruction:\n",
        "\n",
        "```\n",
        "print(\"bonjour tout le monde\")\n",
        "```\n",
        "\n"
      ]
    },
    {
      "cell_type": "code",
      "metadata": {
        "id": "59wIW39bkaFr",
        "colab": {
          "base_uri": "https://localhost:8080/",
          "height": 187
        },
        "outputId": "770f59ae-b701-4ca3-bc13-774eb838b3e9"
      },
      "source": [
        "print(\"bonjour tout le monde\")\n",
        "print(\"bonjour tout le monde\")\n",
        "print(\"bonjour tout le monde\")\n",
        "print(\"bonjour tout le monde\")\n",
        "print(\"bonjour tout le monde\")\n",
        "print(\"bonjour tout le monde\")\n",
        "print(\"bonjour tout le monde\")\n",
        "print(\"bonjour tout le monde\")\n",
        "print(\"bonjour tout le monde\")\n",
        "print(\"bonjour tout le monde\")"
      ],
      "execution_count": null,
      "outputs": [
        {
          "output_type": "stream",
          "text": [
            "bonjour tout le monde\n",
            "bonjour tout le monde\n",
            "bonjour tout le monde\n",
            "bonjour tout le monde\n",
            "bonjour tout le monde\n",
            "bonjour tout le monde\n",
            "bonjour tout le monde\n",
            "bonjour tout le monde\n",
            "bonjour tout le monde\n",
            "bonjour tout le monde\n"
          ],
          "name": "stdout"
        }
      ]
    },
    {
      "cell_type": "code",
      "metadata": {
        "id": "PhRVHwvWkoqW"
      },
      "source": [
        ""
      ],
      "execution_count": null,
      "outputs": []
    },
    {
      "cell_type": "markdown",
      "metadata": {
        "id": "laGo4p6HksxU"
      },
      "source": [
        "De la même façon, si on vous demande d'afficher les nombres de 1 à 100, vous allez vous fatiguer à écrire 100 fois l'instruction print(). Toutefois, rappelez-vous très bien que l'informatique a été inventée pour automatiser, simplifier et accélérer les traiatments. Alors, dans ce genre de situations où on a un traitement répététif (dans les deux exemples précédentes, on doit répéter l'instruction print un certain nombre de fois), nous utilisons des structures répététives, aussi appelées boucles.\n",
        "<p/>\n",
        "<p> Nous nous intéressons dans ce cours aux deux boucles suivante:\n",
        "</p>\n",
        "\n",
        "*   La boucle **for** ;\n",
        "*   La boucle **while**."
      ]
    },
    {
      "cell_type": "markdown",
      "metadata": {
        "id": "tRc3OQQbmnBh"
      },
      "source": [
        "## <font color=\"blue\">1. La boucle for\n",
        "\n"
      ]
    },
    {
      "cell_type": "markdown",
      "metadata": {
        "id": "iUYC5IfRm0_Z"
      },
      "source": [
        "La boucle for est très utilisée dans tous les langages de programmation. Elle est surtout employée quand on sait préalablement le nombre d'itérations à réaliser (10 et 100 respectivement pour les exemples de départ). sa syntaxe est la suivante:\n",
        "\n",
        "```\n",
        "for element in sequence_de_valeur :\n",
        "    bloc instructions\n",
        "```\n",
        "\n"
      ]
    },
    {
      "cell_type": "code",
      "metadata": {
        "id": "ApyBS5Ezn-fN",
        "colab": {
          "base_uri": "https://localhost:8080/",
          "height": 187
        },
        "outputId": "996472ff-9638-4500-a1e3-f7be3e5bbc9b"
      },
      "source": [
        "#exemple 1: afficher 10 fois \"Bonjour tout le monde\"\n",
        "for i in range(10):\n",
        "  print(\"Bonjour tout le monde\")"
      ],
      "execution_count": null,
      "outputs": [
        {
          "output_type": "stream",
          "text": [
            "Bonjour tout le monde\n",
            "Bonjour tout le monde\n",
            "Bonjour tout le monde\n",
            "Bonjour tout le monde\n",
            "Bonjour tout le monde\n",
            "Bonjour tout le monde\n",
            "Bonjour tout le monde\n",
            "Bonjour tout le monde\n",
            "Bonjour tout le monde\n",
            "Bonjour tout le monde\n"
          ],
          "name": "stdout"
        }
      ]
    },
    {
      "cell_type": "code",
      "metadata": {
        "id": "wv01MOhnoX8f",
        "colab": {
          "base_uri": "https://localhost:8080/",
          "height": 187
        },
        "outputId": "9d887ffa-246a-4573-a55d-e63e4ec0aefc"
      },
      "source": [
        "#exemple 2: afficher les entiers de 1 à 10\n",
        "for i in range(1,11):\n",
        "  print(i)"
      ],
      "execution_count": null,
      "outputs": [
        {
          "output_type": "stream",
          "text": [
            "1\n",
            "2\n",
            "3\n",
            "4\n",
            "5\n",
            "6\n",
            "7\n",
            "8\n",
            "9\n",
            "10\n"
          ],
          "name": "stdout"
        }
      ]
    },
    {
      "cell_type": "markdown",
      "metadata": {
        "id": "dMBog9kJooy5"
      },
      "source": [
        "**Commentaire:**\n",
        "\n",
        "\n",
        "*   on a toujours besoin d'un compteur (i par exemple) initialisé dans la boucle et incrépenté après chaque itération;\n",
        "*   on a pas besoin d'incrémenter explicitement le compteur.\n",
        "\n"
      ]
    },
    {
      "cell_type": "markdown",
      "metadata": {
        "id": "zxmkH1EbpcgO"
      },
      "source": [
        "## <font color=\"blue\">2. La boucle while"
      ]
    },
    {
      "cell_type": "markdown",
      "metadata": {
        "id": "h-uuONcApnFm"
      },
      "source": [
        "La boucle while permet, comme la boucle for, de réaliser un traitement itératif. toutefois, la boucle while est très utile quand on ne connait pas, au préalable, le nombre d'itéartions à réaliser, mais on a à la place, une condition d'arrêt.\n"
      ]
    },
    {
      "cell_type": "code",
      "metadata": {
        "id": "iMAuN3QhqV80",
        "colab": {
          "base_uri": "https://localhost:8080/",
          "height": 187
        },
        "outputId": "09409384-ad00-48c1-e497-73d4b59b6848"
      },
      "source": [
        "#exemple 1: afficher 10 fois \"Bonjour tout le monde\"\n",
        "i=1#initailisation explicite est nécessaire\n",
        "while i<=10 :\n",
        "  print(\"Bonjour tout le monde\")\n",
        "  i+=1#incrémentation explicite est nécessaire"
      ],
      "execution_count": null,
      "outputs": [
        {
          "output_type": "stream",
          "text": [
            "Bonjour tout le monde\n",
            "Bonjour tout le monde\n",
            "Bonjour tout le monde\n",
            "Bonjour tout le monde\n",
            "Bonjour tout le monde\n",
            "Bonjour tout le monde\n",
            "Bonjour tout le monde\n",
            "Bonjour tout le monde\n",
            "Bonjour tout le monde\n",
            "Bonjour tout le monde\n"
          ],
          "name": "stdout"
        }
      ]
    },
    {
      "cell_type": "markdown",
      "metadata": {
        "id": "coxTDo94q3GY"
      },
      "source": [
        "**Commentaire:**\n",
        "\n",
        "\n",
        "\n",
        "*   L'initialisation est l'incrémentation doivenet figurer explicitement dans le code;\n",
        "*   Tout traitement réalisé avec for peut être réalisé par while est l'inverse n'est pas toujours vrai.\n",
        "\n"
      ]
    },
    {
      "cell_type": "markdown",
      "metadata": {
        "id": "CgHhnoE6rV1g"
      },
      "source": [
        "**Exercices**\n",
        "\n",
        "1.   Ecrire un programme qui réalise la somme des entiers de 1 à 100 (Ecrire deux versions pour utiliser les deux boucles!).\n",
        "2.   Modifier le programme précédente de telle sorte à faire la somme des nombres pairs seulement.\n",
        "3.   Modifier le programmeprécédente (Question 2) de telle manière à faire la sommes des éléments pairs compris entre 1 et N. N étant saisi au clavier.\n",
        "4.   Ecrire un programme qui demande un entier positif, puis il détermine s'il est premier ou non premier. est-il possible d'utiliser la boucle for? justifier votre réponse.\n",
        "5.   Ecrire un programme qui demande un entier positif, puis il calcule et affiche sa factorielle.\n",
        "\n"
      ]
    },
    {
      "cell_type": "markdown",
      "metadata": {
        "id": "JSghPbxdzTZf"
      },
      "source": [
        "## <font color=\"blue\">3. Les instructions **break** et **continue**"
      ]
    },
    {
      "cell_type": "markdown",
      "metadata": {
        "id": "iCxFit_7zoQM"
      },
      "source": [
        "Les deux instructions braek et continue s'utilisent conjoitement avec les boucles pour modifier le comportement de ces dernières. \n",
        "\n",
        "+ l'instruction break permet d'interrompre le déroulement d'une boucle, c'eest-à-dire, elle génère une sortie précoce de la boucle même la condition prinicpale de la boucle reste encore VRAI.\n",
        "+ L'instruction continue permet de suspendre l'exécution des instructions même lorsque la condition principale est vérifiée.\n",
        "\n",
        "les deux exemples suivants montrent l'utilisation de ces deux instructions."
      ]
    },
    {
      "cell_type": "code",
      "metadata": {
        "id": "o4irs7ik023m",
        "colab": {
          "base_uri": "https://localhost:8080/",
          "height": 102
        },
        "outputId": "05702646-a859-48e9-f31b-846f464eff62"
      },
      "source": [
        "#exemple 1: utilisation de break pour une sortie prématurée de la boucle.\n",
        "for i in range(1,11):\n",
        "  print(i)\n",
        "  if i>=5:\n",
        "    break"
      ],
      "execution_count": null,
      "outputs": [
        {
          "output_type": "stream",
          "text": [
            "1\n",
            "2\n",
            "3\n",
            "4\n",
            "5\n"
          ],
          "name": "stdout"
        }
      ]
    },
    {
      "cell_type": "markdown",
      "metadata": {
        "id": "MHP9SBMU1M49"
      },
      "source": [
        "**Commentaire:**\n",
        "\n",
        "+ Préalablement le boucle a été programmée pour affichier les nombres de 1 à 10, mais la présence de l'instruction break a mis fin prématurée à cette boucle en sortant quand i >=5.\n"
      ]
    },
    {
      "cell_type": "code",
      "metadata": {
        "id": "BvlaN5Ms1nIm",
        "colab": {
          "base_uri": "https://localhost:8080/",
          "height": 170
        },
        "outputId": "007c4627-eee7-4ba6-a2c3-f210d0564117"
      },
      "source": [
        "#Exemple 2: utilisation de Continue pour sauter des instructions\n",
        "for i in range(1,11):\n",
        "  if i==5:\n",
        "    continue\n",
        "  print(i)\n",
        "  "
      ],
      "execution_count": null,
      "outputs": [
        {
          "output_type": "stream",
          "text": [
            "1\n",
            "2\n",
            "3\n",
            "4\n",
            "6\n",
            "7\n",
            "8\n",
            "9\n",
            "10\n"
          ],
          "name": "stdout"
        }
      ]
    },
    {
      "cell_type": "markdown",
      "metadata": {
        "id": "ifo0YmSN1-9I"
      },
      "source": [
        "**Commentaire:**\n",
        "\n",
        "+ Veuillez retenir que la valeur 5 a été sautée à cause de l'instruction continue;\n",
        "+ Faites attention également à la place de l'instruction à sauter (continue avant l'instruction à sauter)."
      ]
    },
    {
      "cell_type": "markdown",
      "metadata": {
        "id": "mDJB6KC4tabQ"
      },
      "source": [
        "**Conclusion:**\n",
        "\n",
        "vous venez de voir deux instructions très utilisées dans la programmation. Au fur et à mesure que vous progressez dans ce cours, vous allez les croiser et les utiliser dans les chapitres suivants.\n",
        "\n",
        "Rappelez-vous que:\n",
        "\n",
        "\n",
        "*   la boucle for est utilisée quand on sait à l'avance le nombre d'itération à réaliser\n",
        "*   la boucle while est utilisée quand on ne caonnais pas au préalable le nombre d'itération à réaliser, mais on a une condition d'arrêt;\n",
        "*   Tout traitement réalisé avec for peut être refait avec while et l'inverse n'est pas toujours vrai.\n",
        "\n"
      ]
    }
  ]
}