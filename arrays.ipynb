{
  "nbformat": 4,
  "nbformat_minor": 0,
  "metadata": {
    "colab": {
      "name": "arrays.ipynb",
      "provenance": [],
      "authorship_tag": "ABX9TyO8b5CgzwGblO8ufaoqKv8L",
      "include_colab_link": true
    },
    "kernelspec": {
      "name": "python3",
      "display_name": "Python 3"
    },
    "language_info": {
      "name": "python"
    }
  },
  "cells": [
    {
      "cell_type": "markdown",
      "metadata": {
        "id": "view-in-github",
        "colab_type": "text"
      },
      "source": [
        "<a href=\"https://colab.research.google.com/github/elhaji1/Les-bases-de-Python/blob/master/arrays.ipynb\" target=\"_parent\"><img src=\"https://colab.research.google.com/assets/colab-badge.svg\" alt=\"Open In Colab\"/></a>"
      ]
    },
    {
      "cell_type": "code",
      "metadata": {
        "id": "UVFXjEIDP9a9"
      },
      "source": [
        ""
      ],
      "execution_count": null,
      "outputs": []
    },
    {
      "cell_type": "markdown",
      "metadata": {
        "id": "fdV36qzLP-3j"
      },
      "source": [
        "### <font color=red>**Les objets \"Array\" en Python**</fobt>\n",
        "\n",
        "Un objet **array** est une séquence de valeurs <font color=red>**nupériques**</font> qui se présentent sous forme de tableau d'une ou de plusieurs dimensions.\n",
        "\n",
        "L'objet **array** en Python est défini dans l fonction array() accessible depuis le module **Numpy**. il s'agit d'un module spécialisé dans le calcul scientifique en Python.\n",
        "Pour pouvoir manipuler les objets arrayn il faut alors commencer par importer le module NumPy de la manière suivante:"
      ]
    },
    {
      "cell_type": "code",
      "metadata": {
        "id": "4u0dL5SWSRZM"
      },
      "source": [
        "import numpy as np #np est un aleas qui fait référence à numpy. il est utiliseé pour simplifier la syntaxe par la suite."
      ],
      "execution_count": null,
      "outputs": []
    },
    {
      "cell_type": "markdown",
      "metadata": {
        "id": "8VkFlBa-SvHY"
      },
      "source": [
        "## <font color=\"blue\">1.  Définition d'un  array</font>\n",
        "* **array à une dimension**\n",
        "\n",
        "Il existe généralement plusieurs manières de définir un tableau: à partir d'une liste, d'un typel\n"
      ]
    },
    {
      "cell_type": "code",
      "metadata": {
        "colab": {
          "base_uri": "https://localhost:8080/"
        },
        "id": "yBrnllDBUzMx",
        "outputId": "6bae17ca-96f7-4b1f-9fb9-3420248af0df"
      },
      "source": [
        "import numpy as np\n",
        "#création d'un array à partir d'une liste \n",
        "A=np.array([1,2,3,4])\n",
        "print(\"A= \",A)\n",
        "#création d'un tableau à partir d'un typle\n",
        "B=np.array((5,6,7,8))\n",
        "print(\"B= \",B)\n",
        "#création d'aun tableau en utilisant la fonction arange()\n",
        "C=np.arange(9)\n",
        "print(\"C= \",C)"
      ],
      "execution_count": null,
      "outputs": [
        {
          "output_type": "stream",
          "text": [
            "A=  [1 2 3 4]\n",
            "B=  [5 6 7 8]\n",
            "C=  [0 1 2 3 4 5 6 7 8]\n"
          ],
          "name": "stdout"
        }
      ]
    },
    {
      "cell_type": "markdown",
      "metadata": {
        "id": "P3k3Ae4YWKj3"
      },
      "source": [
        "La fonction **arange()** crée une matrice (vecteur) d'une façon analogique à celle dont **range()** crée une liste, à une différence près que les coefficients ne sont pas forcément entiers.\n"
      ]
    },
    {
      "cell_type": "code",
      "metadata": {
        "id": "iaz9nHMMXbgL",
        "colab": {
          "base_uri": "https://localhost:8080/"
        },
        "outputId": "46770fce-be9c-4426-a2d1-2c09739f9490"
      },
      "source": [
        "import numpy as np\n",
        "A=np.arange(0.1,0.8,0.2)#crée un vecteur contanant des floats de 0.1 à 0.8 avec un pas de 0.2\n",
        "print(\"A= \",A)"
      ],
      "execution_count": null,
      "outputs": [
        {
          "output_type": "stream",
          "text": [
            "A=  [0.1 0.3 0.5 0.7]\n"
          ],
          "name": "stdout"
        }
      ]
    },
    {
      "cell_type": "markdown",
      "metadata": {
        "id": "QGp3BjceYT2c"
      },
      "source": [
        "![info.png](data:image/png;base64,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)La différence fondamentale entre un array à ue dimension et une liste et qu'un array est considéré comme un vacteur, ce qui va permettre de réaliser certain nombres d'opérations mathématiques. Par exemple:"
      ]
    },
    {
      "cell_type": "code",
      "metadata": {
        "colab": {
          "base_uri": "https://localhost:8080/"
        },
        "id": "NLM2UOCHZ_5L",
        "outputId": "55ae1521-8732-4346-e687-057d97e1fad5"
      },
      "source": [
        "import numpy as np\n",
        "X=list(range(5))#crée une liste [0,1,2,3,4]\n",
        "print(\"x= \",X)\n",
        "print(\"X*2= \",X*2)# X n'est un vecteur alors X*2 ne permet pas de multiplier les éléments de liaste par 2!!!\n",
        "A=np.array(X)\n",
        "print(\"A= \",A)\n",
        "#A est unvecteur\n",
        "print(\"A*2= \",A*2)# A est un vecteur alors A*2 permet de multiplier les éléments de A par 2!!!\n",
        "print(\"A+2= \",A+2)# A est un vecteur alors A*2 permet de multiplier les éléments de A par 2!!!\n",
        "print(\" \",A[2]*2)# multiplication du troisième élément de l'array par 2!!!"
      ],
      "execution_count": null,
      "outputs": [
        {
          "output_type": "stream",
          "text": [
            "x=  [0, 1, 2, 3, 4]\n",
            "X*2=  [0, 1, 2, 3, 4, 0, 1, 2, 3, 4]\n",
            "A=  [0 1 2 3 4]\n",
            "A*2=  [0 2 4 6 8]\n",
            "A+2=  [2 3 4 5 6]\n",
            "X*2=  4\n"
          ],
          "name": "stdout"
        }
      ]
    },
    {
      "cell_type": "markdown",
      "metadata": {
        "id": "_lFXJU88ym-p"
      },
      "source": [
        "* **array à deux dimension**\n",
        "<br>Un array à deux dimension est un array de array. C'est-à-dire un array dont les éléments individuel sont des arrays. Par exemple:"
      ]
    },
    {
      "cell_type": "code",
      "metadata": {
        "colab": {
          "base_uri": "https://localhost:8080/"
        },
        "id": "I1-tV7Bhzh4C",
        "outputId": "a65660de-943c-4e9b-f29e-7f5900c295f5"
      },
      "source": [
        "#création d'un array à deux dimension\n",
        "import numpy as np\n",
        "A=np.array([[1,2,3],[4,5,6]])\n",
        "print(\"A= \",A)\n",
        "print(A.shape)"
      ],
      "execution_count": null,
      "outputs": [
        {
          "output_type": "stream",
          "text": [
            "A=  [[1 2 3]\n",
            " [4 5 6]]\n",
            "(2, 3)\n"
          ],
          "name": "stdout"
        }
      ]
    },
    {
      "cell_type": "markdown",
      "metadata": {
        "id": "NGZzMLUq0TQa"
      },
      "source": [
        "## <font color=\"blue\">2.  Indiçage d'un  array: Slicing</font>\n",
        "* **array à une dimension**\n"
      ]
    },
    {
      "cell_type": "code",
      "metadata": {
        "id": "ylq1nhpv0tyQ",
        "colab": {
          "base_uri": "https://localhost:8080/"
        },
        "outputId": "516eadc5-970c-485c-ef1f-013be1a6e46d"
      },
      "source": [
        "#création d'un array à l'aide de la fonction arange()\n",
        "import numpy as np\n",
        "A=np.arange(10,30,2)\n",
        "print(A)# renvoie [10,12,14,16,18,20,22,24,26,28]\n",
        "A[0]# renvoie l'élément de l'indice 0 ==>10\n",
        "A[2]# renvoie l'élément de l'indice 1 ==>12\n",
        "A[6:]# renvoie tous les éléments à partir de l'élément  de l'indice 2 ==>[22,24,26,28]\n",
        "A[:6]# renvoie tous les éléments à partir de l'élément de l'indice 0 à l'élément de l'indice 5(indice 6 est exclus!)=> [10 12 14 16 18 20]\n",
        "A[:]#renvoie tous les éléments du array\n",
        "A[: :2]# renvoie tous les éléments avec un saut de 2 éléments à chaque fois=>[10 14 18 22 26]"
      ],
      "execution_count": null,
      "outputs": [
        {
          "output_type": "stream",
          "text": [
            "[10 12 14 16 18 20 22 24 26 28]\n"
          ],
          "name": "stdout"
        },
        {
          "output_type": "execute_result",
          "data": {
            "text/plain": [
              "array([10, 14, 18, 22, 26])"
            ]
          },
          "metadata": {
            "tags": []
          },
          "execution_count": 3
        }
      ]
    },
    {
      "cell_type": "markdown",
      "metadata": {
        "id": "o789QvmI4lsU"
      },
      "source": [
        "* **array à une dimension**\n"
      ]
    },
    {
      "cell_type": "code",
      "metadata": {
        "id": "k_l8y4dp48cd"
      },
      "source": [
        "import numpy as np\n",
        "#création d'un array de deux dimensions\n",
        "A=np.array([\n",
        "            [1,2,3,4],\n",
        "            [5,6,7,8],\n",
        "            [9,10,11,12]\n",
        "            ])\n",
        "print (A)#renvoie un array 3x4\n",
        "A[0,:]#renvoie tous les éléments de l'array qui a l'indice 0 dans les indices du second niveau (Première ligne)\n",
        "      #renvoie [1,2,3,4]\n",
        "A[:,0]#renvoie tous les éléments situés à l'indice 0 dans les arrays du second niveau (Première colonne)\n",
        "      #renvoie [1 5 9]\n",
        "A[2,3]#renvoie 12. Equivalent à A[2][3] pour langage C\n",
        "A[2,4]#renvoie Erreur=> IndexError: index 4 is out of bounds for axis 1 with size 4\n"
      ],
      "execution_count": null,
      "outputs": []
    },
    {
      "cell_type": "markdown",
      "metadata": {
        "id": "UaXGBPS288tq"
      },
      "source": [
        "## <font color=\"blue\">3.Opérations sur les arrays</font>\n",
        "Dans cette section nous allons voir quelques fonctions tres utilisées quand on traite les arrays avec Pytho, à savoir:\n",
        "* la fonction shape(): renvoie un tuple présentant le type de la matrice (Nbr ligne, Nbr colonnes).\n",
        "* la fonction **size()**: renvoie le nombre d'éléments\n",
        "* la fonction **reshape()**: transforme un array vecteur en matrice en endiquant en paramètres le nombre de lignes et de colonnes. Elle nécessite que la dimension de la matrice soit compatible avec le nombre d'éléments contenus dans l'array de départ.\n",
        "* la fonctions **resize()**: transforme un array vecteur en matrice en endiquant en paramètres le nombre de lignes et de colonnes. Elle ne nécessite pas que la dimension de la matrice soit compatible avec le nombre d'éléments contenus dans l'array de départ.\n",
        "* la fonction **transpose()**: renvoie la transposé d'un array.\n",
        "* la fonction **zeros()**: crée un array contenant que de zéros!\n",
        "* la fonction **ones()**:crée un array rempli que de 1!\n",
        "* la fonction **dot()**: le produit matriciel!\n",
        "* la fonction **linalg.inv(x)**:renvoie l'inverse de la matrice x \n",
        "* la fonction **linalg.det(x)**:renvoie le déterminant de la matrice x \n",
        "* la fonction **linalg.eig(x)**:renvoie un typle dont le premier élément cerrespond aux valeurs propres et le second aux vecteur propres.\n",
        "* la fonction **argsort()**: renvoie sous forme d'une liste (ou array) les indices triés du l'array fourni en argument! "
      ]
    },
    {
      "cell_type": "markdown",
      "metadata": {
        "id": "pQ_VWwXCAZKM"
      },
      "source": [
        "**<font color=blue>La fonction Reshape()</font>**"
      ]
    },
    {
      "cell_type": "code",
      "metadata": {
        "colab": {
          "base_uri": "https://localhost:8080/"
        },
        "id": "8OThCIy1AfCD",
        "outputId": "7b2da549-af3d-4119-93d1-43f08dcbd4ce"
      },
      "source": [
        "#créer un array d'une seule dimension\n",
        "import numpy as np\n",
        "#A=np.arange(9)\n",
        "#A.reshape(3,3)\n",
        "A=np.arange(9).reshape(3,3)\n",
        "print(A)\n",
        "print(np.transpose(A))\n",
        "A.T"
      ],
      "execution_count": null,
      "outputs": [
        {
          "output_type": "stream",
          "text": [
            "[[0 1 2]\n",
            " [3 4 5]\n",
            " [6 7 8]]\n",
            "[[0 3 6]\n",
            " [1 4 7]\n",
            " [2 5 8]]\n"
          ],
          "name": "stdout"
        },
        {
          "output_type": "execute_result",
          "data": {
            "text/plain": [
              "array([[0, 3, 6],\n",
              "       [1, 4, 7],\n",
              "       [2, 5, 8]])"
            ]
          },
          "metadata": {
            "tags": []
          },
          "execution_count": 5
        }
      ]
    },
    {
      "cell_type": "code",
      "metadata": {
        "id": "r6RCliHSBj0Y"
      },
      "source": [
        ""
      ],
      "execution_count": null,
      "outputs": []
    },
    {
      "cell_type": "markdown",
      "metadata": {
        "id": "yKbcYcSuqGFM"
      },
      "source": [
        "**<font color=blue>Calcul matriciel avec la fonction dot()</font>**"
      ]
    },
    {
      "cell_type": "code",
      "metadata": {
        "id": "E1RzGaJTDtkl"
      },
      "source": [
        "import numpy as np\n",
        "#génération d'une matrice (3,2)\n",
        "#A=np.random.randint(10, size=(3,2))\n",
        "A=np.array([[8, 6],\n",
        "            [3, 9],\n",
        "            [2, 20]\n",
        "            ])\n",
        "#génération d'une matrice (2,2)\n",
        "#B=np.random.randint(10, size=(2,2))\n",
        "B=np.array([\n",
        "            [3, 2],\n",
        "            [0, 6]\n",
        "            ])\n",
        "#calcul du produit matriciel AxB\n",
        "ProdMat=np.dot(A,B)#forme 1\n",
        "#ProdMat=A.dot(B)#forme2"
      ],
      "execution_count": null,
      "outputs": []
    },
    {
      "cell_type": "code",
      "metadata": {
        "colab": {
          "base_uri": "https://localhost:8080/"
        },
        "id": "tsF8mMzDGELy",
        "outputId": "591282f5-7734-4301-f3f3-92e3e93acc28"
      },
      "source": [
        "import numpy as np\n",
        "x=np.arange(10)\n",
        "print(x.shape)\n",
        "y=x.reshape(10,1)\n",
        "y.shape\n"
      ],
      "execution_count": null,
      "outputs": [
        {
          "output_type": "stream",
          "text": [
            "(10,)\n"
          ],
          "name": "stdout"
        },
        {
          "output_type": "execute_result",
          "data": {
            "text/plain": [
              "(10, 1)"
            ]
          },
          "metadata": {
            "tags": []
          },
          "execution_count": 6
        }
      ]
    },
    {
      "cell_type": "code",
      "metadata": {
        "colab": {
          "base_uri": "https://localhost:8080/"
        },
        "id": "Xu05LItwn-5-",
        "outputId": "f92f1f22-32c4-47db-bcc2-53e4c37769cc"
      },
      "source": [
        "import numpy as np\n",
        "A=np.zeros((3,3))\n",
        "A"
      ],
      "execution_count": null,
      "outputs": [
        {
          "output_type": "execute_result",
          "data": {
            "text/plain": [
              "array([[0., 0., 0.],\n",
              "       [0., 0., 0.],\n",
              "       [0., 0., 0.]])"
            ]
          },
          "metadata": {
            "tags": []
          },
          "execution_count": 2
        }
      ]
    },
    {
      "cell_type": "code",
      "metadata": {
        "colab": {
          "base_uri": "https://localhost:8080/"
        },
        "id": "WHND_8IGoQP6",
        "outputId": "b1360eb4-7e41-43f1-bbdf-6c9a5a8a2166"
      },
      "source": [
        "import numpy as np\n",
        "A=np.zeros((3,2),int)\n",
        "A"
      ],
      "execution_count": null,
      "outputs": [
        {
          "output_type": "execute_result",
          "data": {
            "text/plain": [
              "array([[0, 0],\n",
              "       [0, 0],\n",
              "       [0, 0]])"
            ]
          },
          "metadata": {
            "tags": []
          },
          "execution_count": 7
        }
      ]
    },
    {
      "cell_type": "code",
      "metadata": {
        "colab": {
          "base_uri": "https://localhost:8080/"
        },
        "id": "yhayKGazoYjn",
        "outputId": "0c63c246-4b2c-41d7-9663-7a8a8bec996f"
      },
      "source": [
        "import numpy as np\n",
        "A=np.ones((3,3))\n",
        "A"
      ],
      "execution_count": null,
      "outputs": [
        {
          "output_type": "execute_result",
          "data": {
            "text/plain": [
              "array([[1., 1., 1.],\n",
              "       [1., 1., 1.],\n",
              "       [1., 1., 1.]])"
            ]
          },
          "metadata": {
            "tags": []
          },
          "execution_count": 5
        }
      ]
    },
    {
      "cell_type": "markdown",
      "metadata": {
        "id": "JmhUOS5NpCCL"
      },
      "source": [
        "## <font color=red>Exercice </font>\n",
        "1. créer un array A (vecteur) contenant les valeurs de 1 à 9.\n",
        "2. afficher la dimension de A.\n",
        "4. multiplier A par 2;\n",
        "5. afficher le nombre d'éléments de A.\n",
        "6. transformer A en matrice B de dimension (m,n) avec la fonction reshape()\n",
        "7. Afficher le transposé de B.\n",
        "8. Calculer le déterminant de A.\n",
        "9. Réaliser le produit matriciel entre A et B!!!!Alors?"
      ]
    }
  ]
}