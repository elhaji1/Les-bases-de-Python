{
  "nbformat": 4,
  "nbformat_minor": 0,
  "metadata": {
    "colab": {
      "name": "variable et expressions.ipynb",
      "provenance": [],
      "collapsed_sections": [],
      "authorship_tag": "ABX9TyPYEiZKfr8wQO/HPLRMKLQr"
    },
    "kernelspec": {
      "name": "python3",
      "display_name": "Python 3"
    }
  },
  "cells": [
    {
      "cell_type": "markdown",
      "metadata": {
        "id": "FG1aIli_H362"
      },
      "source": [
        "## <font color=\"blue\"> Qu'est-ce qu'une variable?</font>\n",
        "Rapellez-vous qu'un programme est une suite d'instructions exécutées par un ordinateur dans un ordre bien déterminé pour réaliser un traitment.\n",
        "<p>\n",
        "Ces instructions concerne en gande partie la manipulation des données. Une donnée quelconque peut être **consatante** ou **variable**:\n",
        "\n",
        "+ Une constante est une donnée qui ne change pas de valeur durant l'exécution du programme.Il ne faut pas condondre une constante de point de vue algorithmique avec les constantes universelleq telle que: pi=3.14, ...\n",
        "+ Une données variable est une donnée dont la veleur est susceptible de changer durant l'exécution du programme. Ainsi, elle peut prendre plusieurs valeur intermédiaires avant d'obtenir la dernière valeur.\n",
        "\n",
        "Techniquement parlant:\n",
        "Une variable est une zone mémoire de votre ordinateur dans laquelle est stockée une donnée. cette zone mémoire est accessible par son adresse.\n",
        "## <font color=\"blue\">Types simples de données</font>\n",
        "Une donnée peut être de type :\n",
        "+ réel ou float (âge par exempe);\n",
        "+ enitier ou int (nommbre_eleve par exemple); \n",
        "+ chaine de caractères ou str (Nom): donnée écrite entre les guiellmets.\n",
        "+ booleen ou bool:qui peut avoir l'une des deux valeur TRUE ou FALSE\n"
      ]
    },
    {
      "cell_type": "code",
      "metadata": {
        "id": "7ZhF-dUQHXCv",
        "colab": {
          "base_uri": "https://localhost:8080/",
          "height": 34
        },
        "outputId": "5a8b432b-a1e9-432e-9686-58d4aaa084c0"
      },
      "source": [
        "#exemple d'une donnée réelle (float)\n",
        "age=30.5\n",
        "age"
      ],
      "execution_count": null,
      "outputs": [
        {
          "output_type": "execute_result",
          "data": {
            "text/plain": [
              "30.5"
            ]
          },
          "metadata": {
            "tags": []
          },
          "execution_count": 1
        }
      ]
    },
    {
      "cell_type": "code",
      "metadata": {
        "id": "RCaOTdywNdhH",
        "colab": {
          "base_uri": "https://localhost:8080/",
          "height": 34
        },
        "outputId": "738e693f-078f-4c40-831e-3bca444e9af0"
      },
      "source": [
        "#afficher le type d'une donnée\n",
        "type(age)"
      ],
      "execution_count": null,
      "outputs": [
        {
          "output_type": "execute_result",
          "data": {
            "text/plain": [
              "float"
            ]
          },
          "metadata": {
            "tags": []
          },
          "execution_count": 4
        }
      ]
    },
    {
      "cell_type": "code",
      "metadata": {
        "id": "Rrz80QBdNxz2",
        "colab": {
          "base_uri": "https://localhost:8080/",
          "height": 34
        },
        "outputId": "355a1d1b-06f1-4735-9e91-ef37f10b8528"
      },
      "source": [
        "#exemple d'une donnée de type entier (int)\n",
        "effectif=20\n",
        "#afficher le contenu de la variable effectif\n",
        "effectif"
      ],
      "execution_count": null,
      "outputs": [
        {
          "output_type": "execute_result",
          "data": {
            "text/plain": [
              "20"
            ]
          },
          "metadata": {
            "tags": []
          },
          "execution_count": 5
        }
      ]
    },
    {
      "cell_type": "code",
      "metadata": {
        "id": "vEQ1WPT_ODb9",
        "colab": {
          "base_uri": "https://localhost:8080/",
          "height": 34
        },
        "outputId": "5c654f93-6377-4622-ad83-dc40d9aac14b"
      },
      "source": [
        "#le type de la variable effectif\n",
        "type(effectif)"
      ],
      "execution_count": null,
      "outputs": [
        {
          "output_type": "execute_result",
          "data": {
            "text/plain": [
              "int"
            ]
          },
          "metadata": {
            "tags": []
          },
          "execution_count": 6
        }
      ]
    },
    {
      "cell_type": "code",
      "metadata": {
        "id": "GtrasdLxOK22",
        "colab": {
          "base_uri": "https://localhost:8080/",
          "height": 34
        },
        "outputId": "7869db83-3cff-4367-aaa2-31d2b2846d48"
      },
      "source": [
        "#exemple d'une donnée de type chaine de caractères\n",
        "nom=\"El HAJI\"\n",
        "code=\"12345\"\n",
        "#la variable code n'est plus numérique, mais il s'agit d'une chaine de caractères (str) une fois mis entre les guillemets\n",
        "type(code)"
      ],
      "execution_count": null,
      "outputs": [
        {
          "output_type": "execute_result",
          "data": {
            "text/plain": [
              "str"
            ]
          },
          "metadata": {
            "tags": []
          },
          "execution_count": 7
        }
      ]
    },
    {
      "cell_type": "code",
      "metadata": {
        "id": "QEygZAhvOvHr",
        "colab": {
          "base_uri": "https://localhost:8080/",
          "height": 34
        },
        "outputId": "6cabb404-b2b4-4f4c-d3cb-74cc2fbac428"
      },
      "source": [
        "#Exemple d'une donnée logique (bool)\n",
        "x=10<3\n",
        "x\n",
        "x est un booleen dont la valeur est False"
      ],
      "execution_count": null,
      "outputs": [
        {
          "output_type": "execute_result",
          "data": {
            "text/plain": [
              "False"
            ]
          },
          "metadata": {
            "tags": []
          },
          "execution_count": 8
        }
      ]
    },
    {
      "cell_type": "code",
      "metadata": {
        "id": "KwnXKEMZO4Jq",
        "colab": {
          "base_uri": "https://localhost:8080/",
          "height": 34
        },
        "outputId": "0e048c55-eeb5-4c13-d4ac-70379cbd3238"
      },
      "source": [
        "# x est un booléen (bool)\n",
        "type(x)"
      ],
      "execution_count": null,
      "outputs": [
        {
          "output_type": "execute_result",
          "data": {
            "text/plain": [
              "bool"
            ]
          },
          "metadata": {
            "tags": []
          },
          "execution_count": 9
        }
      ]
    },
    {
      "cell_type": "markdown",
      "metadata": {
        "id": "tL5E-imIPZWy"
      },
      "source": [
        "## <font color=\"blue\">Python est langage dynamiquement typé:</font>\n",
        "<p> comme vous venez de remarquer à travers les exemples précédents, nous n'avons pas déterminé le types des données explicitement avant leur utilisation! mais Python a pu déterminer leur type à partir de la valeur affecté lors de l'initialisation. Dans d'autres langauges tels que c ou Java, on ne peut pas utiliser une variable avant de préciser son type explicitement à l'avance. Ces langages sont hautement typés."
      ]
    },
    {
      "cell_type": "markdown",
      "metadata": {
        "id": "KLOOEcLMQXSV"
      },
      "source": [
        "## <font color=\"blue\">Identificateur d'une donnée</font>\n",
        "une donnée quelconque est designé par un nom ou identificateur (age, nom, x,..). cet identificateur permet d'identifier d'une manière unique une donnée lors de l'exécution du programme. Quand on choisit des identificateur, on doit veiller aux point suivant:\n",
        "+ choisir des identificateur significatif;\n",
        "+ un identificateur ne peut pas contenir des caractères spécaux tels que: Espace, >, <, ?, ...\n",
        "+ il doit commencer par une lettre;\n",
        "+ Pas de caractères accentués\n",
        "\n",
        "<p>\n",
        "Ci dessous 3 exemples des identificateurs incorrects (qui vont générer une erreur d'exécution)\n"
      ]
    },
    {
      "cell_type": "code",
      "metadata": {
        "id": "BAuZnGdmRSW1"
      },
      "source": [
        "#incorrect car il contient d'espace\n",
        "x 1=10\n",
        "x"
      ],
      "execution_count": null,
      "outputs": []
    },
    {
      "cell_type": "code",
      "metadata": {
        "id": "1Nj1KnxqRZER"
      },
      "source": [
        "# incorrect car commence par un numéro\n",
        "1x=10\n",
        "1x\n"
      ],
      "execution_count": null,
      "outputs": []
    },
    {
      "cell_type": "code",
      "metadata": {
        "id": "GHRs2xAYReOK"
      },
      "source": [
        "# incorrect car commence par un numéro\n",
        "1_x=10\n",
        "1_x"
      ],
      "execution_count": null,
      "outputs": []
    },
    {
      "cell_type": "markdown",
      "metadata": {
        "id": "OMplYm49SX0R"
      },
      "source": [
        "## <font color=\"blue\"> Affectation</font>\n",
        "<p>\n",
        "L'affectation est une opération qui consiste à attribuer une valeur ou une expression à une variable. En Python l'affectation est désignée par le signe \"=\" (égale).\n",
        "En règle générale, la dernière valeur affectée écrase l'ancienne valeur."
      ]
    },
    {
      "cell_type": "markdown",
      "metadata": {
        "id": "N38GF6KPTCYP"
      },
      "source": [
        "**Exercice d'application:**\n",
        "<p>\n",
        "  deviner les valeurs de A, B, et C à la fin de l'exéution des instructions suivantes:\n",
        "  </p>"
      ]
    },
    {
      "cell_type": "code",
      "metadata": {
        "id": "wNPIdoGATVcL"
      },
      "source": [
        "A=10\n",
        "B=6\n",
        "C=12\n",
        "A=B\n",
        "B=A\n",
        "C=A+B\n",
        "print(A, B, C)"
      ],
      "execution_count": null,
      "outputs": []
    },
    {
      "cell_type": "markdown",
      "metadata": {
        "id": "O9svbHUvTymw"
      },
      "source": [
        "**analyser le code suivant est dire ce qu'il va produire:**\n"
      ]
    },
    {
      "cell_type": "code",
      "metadata": {
        "id": "rVD7ZR26T7gU"
      },
      "source": [
        "X=10\n",
        "Y=-10\n",
        "Z=X<Y"
      ],
      "execution_count": null,
      "outputs": []
    },
    {
      "cell_type": "markdown",
      "metadata": {
        "id": "YYlKvOwmUIg3"
      },
      "source": [
        "## <font color=\"blue\"> Opérateur Logique</font>"
      ]
    },
    {
      "cell_type": "markdown",
      "metadata": {
        "id": "o0YS3pCxUlPS"
      },
      "source": [
        "**Evaluer les instructions suivante et dire ce qu'elles vont produire:**"
      ]
    },
    {
      "cell_type": "code",
      "metadata": {
        "id": "zsqFngflUM-6",
        "colab": {
          "base_uri": "https://localhost:8080/",
          "height": 68
        },
        "outputId": "4295b4c3-e6fa-42e9-e793-1ab1474511ae"
      },
      "source": [
        "X=True\n",
        "Y=10<5\n",
        "Z=X and Y\n",
        "W=X or Y\n",
        "V= 10 and W\n",
        "print(Z)\n",
        "print(W)\n",
        "print(V)"
      ],
      "execution_count": null,
      "outputs": [
        {
          "output_type": "stream",
          "text": [
            "False\n",
            "True\n",
            "True\n"
          ],
          "name": "stdout"
        }
      ]
    },
    {
      "cell_type": "markdown",
      "metadata": {
        "id": "65fUynGaiXdr"
      },
      "source": [
        "## <font color=\"blue\"> Concersion de types</font>"
      ]
    },
    {
      "cell_type": "code",
      "metadata": {
        "id": "hGj7vBioigOE",
        "colab": {
          "base_uri": "https://localhost:8080/",
          "height": 34
        },
        "outputId": "5077dac0-53ee-4e5c-c6e9-445e671f7a0f"
      },
      "source": [
        "#Convertir un float en int\n",
        "x=int(3.501)\n",
        "#vérifier que x est bien un int\n",
        "print(x)\n",
        "type(x)"
      ],
      "execution_count": null,
      "outputs": [
        {
          "output_type": "execute_result",
          "data": {
            "text/plain": [
              "3"
            ]
          },
          "metadata": {
            "tags": []
          },
          "execution_count": 1
        }
      ]
    },
    {
      "cell_type": "code",
      "metadata": {
        "id": "RcXm4UO-iwAH",
        "colab": {
          "base_uri": "https://localhost:8080/",
          "height": 51
        },
        "outputId": "7de0c0c8-6719-4ddb-d244-70cb836dfd07"
      },
      "source": [
        "# convertir un int en float\n",
        "y=float(3)\n",
        "verifier bien que y est bien un float\n",
        "print(y)\n",
        "type(y)"
      ],
      "execution_count": null,
      "outputs": [
        {
          "output_type": "stream",
          "text": [
            "3.0\n"
          ],
          "name": "stdout"
        },
        {
          "output_type": "execute_result",
          "data": {
            "text/plain": [
              "float"
            ]
          },
          "metadata": {
            "tags": []
          },
          "execution_count": 4
        }
      ]
    },
    {
      "cell_type": "code",
      "metadata": {
        "id": "83sua1AYjNh0",
        "colab": {
          "base_uri": "https://localhost:8080/",
          "height": 34
        },
        "outputId": "8c0354ac-5b6c-4d83-e9ea-7adadc30f9be"
      },
      "source": [
        "#convertir une str en int\n",
        "a=\"1234\" # a est bien une deonnée de type str\n",
        "b=int(a)\n",
        "b# b est bien un int"
      ],
      "execution_count": null,
      "outputs": [
        {
          "output_type": "execute_result",
          "data": {
            "text/plain": [
              "1234"
            ]
          },
          "metadata": {
            "tags": []
          },
          "execution_count": 5
        }
      ]
    }
  ]
}