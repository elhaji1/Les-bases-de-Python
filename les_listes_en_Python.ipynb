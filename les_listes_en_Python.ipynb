{
  "nbformat": 4,
  "nbformat_minor": 0,
  "metadata": {
    "kernelspec": {
      "display_name": "Python 3",
      "language": "python",
      "name": "python3"
    },
    "language_info": {
      "codemirror_mode": {
        "name": "ipython",
        "version": 3
      },
      "file_extension": ".py",
      "mimetype": "text/x-python",
      "name": "python",
      "nbconvert_exporter": "python",
      "pygments_lexer": "ipython3",
      "version": "3.7.3"
    },
    "colab": {
      "name": "les listes en Python.ipynb",
      "provenance": []
    }
  },
  "cells": [
    {
      "cell_type": "markdown",
      "metadata": {
        "id": "TDsT8wBrYQ25"
      },
      "source": [
        "# <font color=\"blue\"> Les listes"
      ]
    },
    {
      "cell_type": "markdown",
      "metadata": {
        "id": "IaU4rc5OYQ29"
      },
      "source": [
        "**Définition:**\n",
        "\n",
        "* Les listes sont parmi les principaux objets du langage python;\n",
        "* Une liste est une séquence de valeurs numérique et/ou caractères indicées, spécifiées à l'intérieure des crochets et séparées des virgules.\n",
        "    * Exemples:\n",
        "        * x=[1,2,3,4,5,6]# liste contenant uniquement des chiffres;\n",
        "        * y=[\"PHP\", \"Java\", \"C++\"]# liste contenant uniquement des caractères;\n",
        "        * z=[10,\"Tanger\",\"Rabat\", 30]# liste contenant  des chiffres et des caractères"
      ]
    },
    {
      "cell_type": "markdown",
      "metadata": {
        "id": "Un8NBXRoYQ2-"
      },
      "source": [
        "**Définir une liste simple: liste à une dimension** "
      ]
    },
    {
      "cell_type": "code",
      "metadata": {
        "id": "xsDKlfV5YQ3A"
      },
      "source": [
        "#définir une list vide\n",
        "x=list()\n",
        "#ou\n",
        "x=[]"
      ],
      "execution_count": null,
      "outputs": []
    },
    {
      "cell_type": "markdown",
      "metadata": {
        "id": "xc1zVuLvkiC3"
      },
      "source": [
        "**Indiçage d'une liste à une dimension**:\n",
        "<p>\n",
        "Une liste est une séquence de valeurs indicées, alors il est facile d'accéder à chacune des valeurs en indiqant leur indice.\n",
        "</p>"
      ]
    },
    {
      "cell_type": "code",
      "metadata": {
        "id": "f_1wKHRsk7WQ",
        "colab": {
          "base_uri": "https://localhost:8080/",
          "height": 34
        },
        "outputId": "fe354bbf-d19a-4627-8114-887752bb0b27"
      },
      "source": [
        "x=[3,7,20,\"Lundi\",20]\n",
        "x[0]#renvoie le premier élément de la liste==> 3\n",
        "x[3]#renvoie le quatrième élément de la liste==> Lundi\n",
        "x[:]#renvoie toute la liste\n",
        "x[:2]#renvoie tous les éléments ayant une indice strictement inférieure à 2 (2 exclu), donc [3,7]\n",
        "x[2:]#renvoie tous les éléments ayant une indice supérieure ou égale à 2 (2 inclu), donc [20, 'Lundi', 20]\n",
        "x[-1]# renvoie le dernier élément de la liste, donc 20\n",
        "x[1:4]# renvoie tous les éléments situés entre l' 1 (inclu) et l'indice 4 (exclu), donc [7, 20, 'Lundi']"
      ],
      "execution_count": null,
      "outputs": [
        {
          "output_type": "execute_result",
          "data": {
            "text/plain": [
              "[7, 20, 'Lundi']"
            ]
          },
          "metadata": {
            "tags": []
          },
          "execution_count": 45
        }
      ]
    },
    {
      "cell_type": "markdown",
      "metadata": {
        "id": "fvj9boc8YQ3M"
      },
      "source": [
        "**Ajouter des valeur à une liste**\n",
        "* La fonction **append()** *: pour ajouter un élément à la fin de la liste;\n",
        "* la fonction **extend()** *: pour ajouter plusieurs éléments simultanément;\n",
        "* la fonction **insert()** *: pour insérer un élément à une position spécifique (identifiée par son indice)."
      ]
    },
    {
      "cell_type": "code",
      "metadata": {
        "id": "_ONo6SsSYQ3V",
        "outputId": "33eead12-1f99-40e6-eb91-08bb5d4db436"
      },
      "source": [
        "#Ajouter un élément à la fin de la liste\n",
        "x.append(1)\n",
        "print(x)"
      ],
      "execution_count": null,
      "outputs": [
        {
          "output_type": "stream",
          "text": [
            "[1]\n"
          ],
          "name": "stdout"
        }
      ]
    },
    {
      "cell_type": "code",
      "metadata": {
        "id": "C-5ztTALYQ4V"
      },
      "source": [
        "# Ajouter plusieurs éléments à la fois\n",
        "x.extend([10,15,100])# dans ce cas les crochets sont obligatoire"
      ],
      "execution_count": null,
      "outputs": []
    },
    {
      "cell_type": "code",
      "metadata": {
        "id": "67lU-qAXYQ4d"
      },
      "source": [
        "#Insérer un élément à une position identifée par son indice\n",
        "#Dans l'exemple suivant, on va insérer une 20 dans la deuxième position (indice=1)\n",
        "x.insert(1,20)"
      ],
      "execution_count": null,
      "outputs": []
    },
    {
      "cell_type": "markdown",
      "metadata": {
        "id": "ownZf85jYQ4p"
      },
      "source": [
        "**Supprimer un élément de la liste:**\n",
        "* La fonction remove(): pour supprimer un élément en se basant sur sa valeur;\n",
        "* La fonction delete(): pour supprimer un élément se se basant sur son indice."
      ]
    },
    {
      "cell_type": "code",
      "metadata": {
        "id": "izhThTHlYQ4q",
        "outputId": "0b30b35b-3e3f-464f-85ac-dac315c44bed"
      },
      "source": [
        "#Supprimer un élément en se basant sur sa valeur\n",
        "x=['lundi','mardi','mercredi','jeudi','vendredi','samed','dimanche']\n",
        "x.remove('vendredi')# supprime l'entrée vendredi de la liste x.\n",
        "\"\"\"\n",
        "attention remove() supprime toutes les occurences de l'élément!\n",
        "c-à-d si on vendredi plusieurs fois, ils seront tous supprimés\n",
        "\"\"\"\n",
        "x"
      ],
      "execution_count": null,
      "outputs": [
        {
          "output_type": "execute_result",
          "data": {
            "text/plain": [
              "['lundi', 'mardi', 'mercredi', 'jeudi', 'samed', 'dimanche']"
            ]
          },
          "metadata": {
            "tags": []
          },
          "execution_count": 21
        }
      ]
    },
    {
      "cell_type": "code",
      "metadata": {
        "id": "HOyNwLTEYQ40",
        "outputId": "3b1356df-4bed-4396-de25-7bb49d3700cc"
      },
      "source": [
        "#Supprimer un élement en se basant sur son indice\n",
        "del x[2]#supprime l'élément ayant l'indice 2==> le troisième élément=Mercredi\n",
        "x"
      ],
      "execution_count": null,
      "outputs": [
        {
          "output_type": "execute_result",
          "data": {
            "text/plain": [
              "['lundi', 'mardi', 'jeudi', 'samed', 'dimanche']"
            ]
          },
          "metadata": {
            "tags": []
          },
          "execution_count": 24
        }
      ]
    },
    {
      "cell_type": "markdown",
      "metadata": {
        "id": "3AO-kfn_YQ47"
      },
      "source": [
        "**Autres fonctions importantes de manipulation  de listes:**\n",
        "* La fonction **index()** pour renvoyer l'indice d'un élément en se basant sur sa valeur;\n",
        "* La fonction **count()** pour compter le nombre d'occurence d'une valeur dans la liste;\n",
        "* La fonction **sort()** pour trier les éléments d'une liste;\n",
        "* La fonction **reverse()** pour intervertir l'ordre des élémens de la liste.\n"
      ]
    },
    {
      "cell_type": "code",
      "metadata": {
        "id": "t7ejd91UYQ48",
        "outputId": "83adea1c-fd57-4cdd-c7fa-34d5f03d4306"
      },
      "source": [
        "#créer une liste vide\n",
        "x=list()\n",
        "#remplir la liste par des valeurs paires comprise entre 2 et 30\n",
        "for i in range(1,31):#31 car le dernier terme dans range() est exclu toujours!!!\n",
        "    if i%2==0:\n",
        "        x.append(i)\n",
        "#Afficher la liste x\n",
        "print(x)"
      ],
      "execution_count": null,
      "outputs": [
        {
          "output_type": "stream",
          "text": [
            "[2, 4, 6, 8, 10, 12, 14, 16, 18, 20, 22, 24, 26, 28, 30]\n"
          ],
          "name": "stdout"
        }
      ]
    },
    {
      "cell_type": "code",
      "metadata": {
        "id": "y_Et7HUrYQ5F",
        "outputId": "e2dd835c-0a0c-4261-ef9c-4abe372eadbd"
      },
      "source": [
        "#Récupérer et afficher l'indice de la valeur 22\n",
        "indice=x.index(22)\n",
        "print(indice)"
      ],
      "execution_count": null,
      "outputs": [
        {
          "output_type": "stream",
          "text": [
            "10\n"
          ],
          "name": "stdout"
        }
      ]
    },
    {
      "cell_type": "code",
      "metadata": {
        "id": "r_zEbGLbYQ5R",
        "outputId": "552df2c4-098e-4039-da6d-1d4c4585e0db"
      },
      "source": [
        "#Modifier le code précédent de telle sorte à ce que la valeur recherchée soit saisie au clavier!!\n",
        "val=int(input(\"La valeur recherche?\"))#pour saisir un entier\n",
        "indic=x.index(val)\n",
        "print(indice)\n",
        "# et si val n'existe pas dans la liste????\n",
        "# on va tester l'existance de val par la fonction in"
      ],
      "execution_count": null,
      "outputs": [
        {
          "output_type": "stream",
          "text": [
            "La valeur recherche?22\n",
            "10\n"
          ],
          "name": "stdout"
        }
      ]
    },
    {
      "cell_type": "code",
      "metadata": {
        "id": "fhFm86pzYQ5Y",
        "outputId": "668d85e3-5b23-4d04-a62d-065cd6bf78ce"
      },
      "source": [
        "#Modifier le code précédent de telle sorte à ce que la valeur recherchée soit saisie au clavier!!\n",
        "val=int(input(\"La valeur recherche?\"))#pour saisir un entier\n",
        "if val in x:\n",
        "    indic=x.index(val)\n",
        "    print(val,\" est située à l'indice : \",indice)\n",
        "else:\n",
        "    print(val,\" n'exite pas dans la liste\")\n",
        "        \n",
        "# et si val n'existe pas dans la liste????\n",
        "# on va tester l'existance de val par la fonction in\n"
      ],
      "execution_count": null,
      "outputs": [
        {
          "output_type": "stream",
          "text": [
            "La valeur recherche?33\n",
            "33  n'exite pas dans la liste\n"
          ],
          "name": "stdout"
        }
      ]
    },
    {
      "cell_type": "code",
      "metadata": {
        "id": "b4No7-D1YQ5j",
        "outputId": "93ec99cf-1215-471b-d3a1-70fd2c30770a"
      },
      "source": [
        "#Compter le nombre d'occurence d'une valeur!\n",
        "nombre_fois=x.count(22)\n",
        "print(22,\" apparait \",nombre_fois,\" dans la lsite\")"
      ],
      "execution_count": null,
      "outputs": [
        {
          "output_type": "stream",
          "text": [
            "22  apparait  1  dans la lsite\n"
          ],
          "name": "stdout"
        }
      ]
    },
    {
      "cell_type": "code",
      "metadata": {
        "id": "W0I0-1b3YQ5q",
        "outputId": "b603c26e-52cc-44e3-c861-908a7d6bb0b6"
      },
      "source": [
        "#Trier la liste x d'une manière croisante\n",
        "x.sort()\n",
        "x"
      ],
      "execution_count": null,
      "outputs": [
        {
          "output_type": "execute_result",
          "data": {
            "text/plain": [
              "[2, 4, 6, 8, 10, 12, 14, 16, 18, 20, 22, 24, 26, 28, 30]"
            ]
          },
          "metadata": {
            "tags": []
          },
          "execution_count": 31
        }
      ]
    },
    {
      "cell_type": "code",
      "metadata": {
        "id": "FUVC0DNdYQ5y",
        "outputId": "6bfe9880-6b63-4a5a-bad3-effacb79a7fd"
      },
      "source": [
        "#Trier la liste x d'une manière décroisante\n",
        "x.sort(reverse=True)\n",
        "x"
      ],
      "execution_count": null,
      "outputs": [
        {
          "output_type": "execute_result",
          "data": {
            "text/plain": [
              "[30, 28, 26, 24, 22, 20, 18, 16, 14, 12, 10, 8, 6, 4, 2]"
            ]
          },
          "metadata": {
            "tags": []
          },
          "execution_count": 32
        }
      ]
    },
    {
      "cell_type": "markdown",
      "metadata": {
        "id": "thsEjwLsYQ5-"
      },
      "source": [
        "**Modifier une valeur dans la liste**"
      ]
    },
    {
      "cell_type": "code",
      "metadata": {
        "id": "ysGqIupDYQ5_",
        "outputId": "9f4a4625-fa4f-46c6-a10f-5926ebf16864"
      },
      "source": [
        "#Modifier la valeur dont l'indice égale 3==> la valeur 24 sera remplacée par 0\n",
        "x[3]=0\n",
        "print(x)"
      ],
      "execution_count": null,
      "outputs": [
        {
          "output_type": "stream",
          "text": [
            "[30, 28, 26, 0, 22, 20, 18, 16, 14, 12, 10, 8, 6, 4, 2]\n"
          ],
          "name": "stdout"
        }
      ]
    },
    {
      "cell_type": "code",
      "metadata": {
        "id": "wmLMiHOIYQ6I",
        "outputId": "553a26dd-2d7c-4943-8490-a947703065fb"
      },
      "source": [
        "#La valeur minimale dans la liste\n",
        "mini=min(x)\n",
        "print(mini)"
      ],
      "execution_count": null,
      "outputs": [
        {
          "output_type": "stream",
          "text": [
            "0\n"
          ],
          "name": "stdout"
        }
      ]
    },
    {
      "cell_type": "code",
      "metadata": {
        "id": "d5UIRFymYQ6P",
        "outputId": "b6d7e4a4-9e5c-4c64-fad0-872046874100"
      },
      "source": [
        "#la valeur maximal dans la liste\n",
        "maxi=max(x)\n",
        "print(maxi)"
      ],
      "execution_count": null,
      "outputs": [
        {
          "output_type": "stream",
          "text": [
            "30\n"
          ],
          "name": "stdout"
        }
      ]
    },
    {
      "cell_type": "markdown",
      "metadata": {
        "id": "IVkshQzlYQ6W"
      },
      "source": [
        "**Les fonctions zip() et unzipe()**:\n",
        "* zip() combine les éléments de deux listes en formant une seule liste constituée de couples formés des éléments de même indice (voir l'exemple en desous)\n"
      ]
    },
    {
      "cell_type": "code",
      "metadata": {
        "id": "MuEGuSrmYQ6X",
        "outputId": "e1fa1b77-27c0-4212-eed2-75979afc9f5a"
      },
      "source": [
        "#La fonction zip()\n",
        "x1=[1,2,3,4]\n",
        "x2=[5,6,7,8]\n",
        "x=list(zip(x1,x2))\n",
        "print(x)"
      ],
      "execution_count": null,
      "outputs": [
        {
          "output_type": "stream",
          "text": [
            "[(1, 5), (2, 6), (3, 7), (4, 8)]\n"
          ],
          "name": "stdout"
        }
      ]
    },
    {
      "cell_type": "markdown",
      "metadata": {
        "id": "g_BT5NWnYQ6g"
      },
      "source": [
        "**Exercices :**\n",
        "1. Ecirer un programme python qui permet d'afficher la valeur minimale ainsi que son indice de la liste suivante.\n",
        "    mylist=[90,40,53.5,30,76,93.75,80]\n",
        "    \n",
        "    B.N: N'utiliser pas la fonction min() prédéfinie.\n",
        "    \n",
        "2. Remplacer la valeur recherchée par une autre valeur saisie au clavier. si la liste contient plusieurs occurences, seule la première qui sera remplacée.\n",
        "3. Modifier le code précédent de telle sorte à ce qu'il affiche le nombre d'occurences de la valeur recherchée et leur indices.\n",
        "4. Ecire le code qui permet d'affciher la somme des éléments de la liste.\n",
        "4. Ecrire le code qui permet de trouver et d'afficher les nombres premiers contenus dans la liste (sinon afficher la phrase :\"cette liste ne contient aucun nombre premier\")\n",
        "    "
      ]
    },
    {
      "cell_type": "markdown",
      "metadata": {
        "id": "pbY984kyYxb1"
      },
      "source": [
        "**Les Listes à deux dimensions**"
      ]
    },
    {
      "cell_type": "markdown",
      "metadata": {
        "id": "dZ08MJnOagR1"
      },
      "source": [
        "+ **Indiçage d'une liste à deux dimensions (slicing):**\n",
        "<p>\n",
        "Etant donné qu'une liste est une séquence de valeurs indicées, il est facile d'accéder à chacune des ses valeurs en indiquant son indice."
      ]
    },
    {
      "cell_type": "markdown",
      "metadata": {
        "id": "iOC2wEN-bLqY"
      },
      "source": [
        "* **Exemples:** afficher le premier élément d'une liste.\n",
        "<p>\n",
        "   Une liste à deux dimensions est une liste formée, en réalité, de deux liste à une dimension. Par conséquence:\n",
        "   </p>\n",
        "\n",
        "\n",
        "    + x[0] permet d'accéder au premier élément de la liste (qui est la première liste à une dimension);\n",
        "    * x[0][0] permet d'accéder le premier élément de premier élément-liste."
      ]
    },
    {
      "cell_type": "code",
      "metadata": {
        "id": "cHaFHjdxcmUY",
        "colab": {
          "base_uri": "https://localhost:8080/",
          "height": 34
        },
        "outputId": "9f88ed00-477b-4831-9e09-798408fa1561"
      },
      "source": [
        "x=[[1,2,3],[10,11,12]]\n",
        "x[0]# renvoie le premier élément de la liste ==>[1,2,3]\n",
        "x[0][0]#renvoie le premier élément dans le premier elémént-liste==>1\n",
        "x[0][1]# renvoie 2\n",
        "#x[2]# Erreur (list index of range), car l'élément-liste d'indice 2 n'existe pas!\n",
        "x[1][1]# renvoie 11\n",
        "x[1][:2]#renvoie 1[10,11]\n",
        "x[1][:3]#renvoie 1[10,11,12]\n",
        "x[1][1:]#renvoie 1[11,12]"
      ],
      "execution_count": null,
      "outputs": [
        {
          "output_type": "execute_result",
          "data": {
            "text/plain": [
              "[11, 12]"
            ]
          },
          "metadata": {
            "tags": []
          },
          "execution_count": 23
        }
      ]
    },
    {
      "cell_type": "markdown",
      "metadata": {
        "id": "BDLDMwjyfsps"
      },
      "source": [
        "+ **Parcourir une liste à deux dimension**: on utilise deux boucle for imbriquée.\n",
        "  * Exemple calculer la somme de tous les éléments de la liste."
      ]
    },
    {
      "cell_type": "code",
      "metadata": {
        "id": "OeCoKCk0gGbx",
        "colab": {
          "base_uri": "https://localhost:8080/",
          "height": 34
        },
        "outputId": "545ec143-58a3-4f5c-d40f-11d6c26d9d18"
      },
      "source": [
        "x=[[1,2,3],[10,11,12]]\n",
        "somme=0\n",
        "for i in range(len(x)):\n",
        "  for j in range(len(x[i])):\n",
        "    somme+=x[i][j]\n",
        "print(somme)#renvoie 39"
      ],
      "execution_count": null,
      "outputs": [
        {
          "output_type": "stream",
          "text": [
            "39\n"
          ],
          "name": "stdout"
        }
      ]
    },
    {
      "cell_type": "markdown",
      "metadata": {
        "id": "xqbuCGpfhRE4"
      },
      "source": [
        "**Exercice:** A partir d'une liste à deux dimensions, créer une liste à une dimension dont les éléments sont les sommes des éléments-listes de la liste principale."
      ]
    },
    {
      "cell_type": "code",
      "metadata": {
        "id": "FHvzWHsPhmqz",
        "colab": {
          "base_uri": "https://localhost:8080/",
          "height": 34
        },
        "outputId": "b1e25da8-ff0a-4a2d-d51c-0854d5993542"
      },
      "source": [
        "x=[[1,2,3],[10,11,12]]\n",
        "y=[]#la liste à une dimension que nous allons créer à partire de la liste à 2 dimensions\n",
        "somme=0#\n",
        "for i in range(len(x)):\n",
        "  for j in range(len(x[i])):\n",
        "    somme+=x[i][j]\n",
        "  y.append(somme)\n",
        "  somme=0\n",
        "y"
      ],
      "execution_count": null,
      "outputs": [
        {
          "output_type": "execute_result",
          "data": {
            "text/plain": [
              "[6, 33]"
            ]
          },
          "metadata": {
            "tags": []
          },
          "execution_count": 38
        }
      ]
    },
    {
      "cell_type": "markdown",
      "metadata": {
        "id": "eO-lKQXe1Lgu"
      },
      "source": [
        "**La fonction map()**:\n",
        "<p>\n",
        "la fonction map() exécute une fonction donnée passée en argument sur chacune des éléments d'une liste initiale et renvoe le résultat final sous forme d'une nouvelle liste.</p>\n",
        "\n",
        "+ Exemple 1: nous allons utilser la fonction map() pour générer une liste dont les éléments sont les valeurs d'une liste passé en argument.\n",
        "+ Exemple 2:\n",
        "Dans cette exemple simple nous définissons une fonction puissance() qui prend en paramètre une liste et renvoie une liste finale dont les éléments sont les éléments de la liste initiale à la puissance 2. Après nous utilisons la fonction map() pour mapper les éléments d'une liste par la fonction puissance.\n"
      ]
    },
    {
      "cell_type": "code",
      "metadata": {
        "id": "47q777FZ8oX-",
        "colab": {
          "base_uri": "https://localhost:8080/",
          "height": 34
        },
        "outputId": "8b3d5520-91c4-4373-b153-3334999742eb"
      },
      "source": [
        "from math import sqrt# importe la fonction sqrt située dans le module math\n",
        "#il s'agit d'une fonction prédéfinie\n",
        "l=[4,9,16,25]\n",
        "x=list(map(sqrt,l))\n",
        "x#renvoie [2.0, 3.0, 4.0, 5.0]"
      ],
      "execution_count": null,
      "outputs": [
        {
          "output_type": "execute_result",
          "data": {
            "text/plain": [
              "[2.0, 3.0, 4.0, 5.0]"
            ]
          },
          "metadata": {
            "tags": []
          },
          "execution_count": 64
        }
      ]
    },
    {
      "cell_type": "code",
      "metadata": {
        "id": "Fig1q5ZJhQWQ",
        "colab": {
          "base_uri": "https://localhost:8080/",
          "height": 34
        },
        "outputId": "b627caff-9a46-45ae-bd95-424ae4004dc1"
      },
      "source": [
        "#Définition de la fonction puissance(), il s'agit d'une fonction utilisateur\n",
        "def puissance(x):\n",
        "  return x*x\n",
        "#Déclaration d'une liste Exemple\n",
        "l=[1,2,3,4,5,6,7,8,9,10]\n",
        "x=list(map(puissance,l))\n",
        "x#renvoie [1, 4, 9, 16, 25, 36, 49, 64, 81, 100]"
      ],
      "execution_count": null,
      "outputs": [
        {
          "output_type": "execute_result",
          "data": {
            "text/plain": [
              "[1, 4, 9, 16, 25, 36, 49, 64, 81, 100]"
            ]
          },
          "metadata": {
            "tags": []
          },
          "execution_count": 50
        }
      ]
    },
    {
      "cell_type": "markdown",
      "metadata": {
        "id": "cWfgX5DK9_un"
      },
      "source": [
        "**La fonction filter()**\n",
        "<p>\n",
        "cette fonction permet d'appliquer un filtre sur les éléments d'une liste et renvoie ceux qui remplissent les conditions imposées par le filtre."
      ]
    },
    {
      "cell_type": "code",
      "metadata": {
        "id": "wvILrsps-nHg",
        "colab": {
          "base_uri": "https://localhost:8080/",
          "height": 34
        },
        "outputId": "ef429128-6eea-4bd8-9f72-1ac1972d0431"
      },
      "source": [
        "#Exemple 1: renvoyer les éléments pairs d'une liste\n",
        "#Définition de la fonction puissance(), il s'agit d'une fonction utilisateur\n",
        "def ispair(x):\n",
        "    if x % 2 ==0:\n",
        "      return x\n",
        "#Déclaration d'une liste Exemple\n",
        "l=[1,2,3,4,5,6,7,8,9,10]\n",
        "x=list(filter(ispair,l))\n",
        "x#renvoie [2, 4, 6, 8, 10]"
      ],
      "execution_count": null,
      "outputs": [
        {
          "output_type": "execute_result",
          "data": {
            "text/plain": [
              "[2, 4, 6, 8, 10]"
            ]
          },
          "metadata": {
            "tags": []
          },
          "execution_count": 70
        }
      ]
    },
    {
      "cell_type": "code",
      "metadata": {
        "id": "dL4Dg3OdAHhE",
        "colab": {
          "base_uri": "https://localhost:8080/",
          "height": 34
        },
        "outputId": "89f629aa-5964-4b85-a9ad-8e06449cf205"
      },
      "source": [
        "#Exemple 2:renvoyer les valeur d'une liste > à un seuil\n",
        "#Définition de la fonction puissance(), il s'agit d'une fonction utilisateur\n",
        "def issup(x):\n",
        "    if x >= 5:\n",
        "      return x\n",
        "#Déclaration d'une liste Exemple\n",
        "l=[1,2,3,4,5,6,7,8,9,10]\n",
        "x=list(filter(issup,l))\n",
        "x#renvoie [5, 6, 7, 8, 9, 10]"
      ],
      "execution_count": null,
      "outputs": [
        {
          "output_type": "execute_result",
          "data": {
            "text/plain": [
              "[5, 6, 7, 8, 9, 10]"
            ]
          },
          "metadata": {
            "tags": []
          },
          "execution_count": 72
        }
      ]
    },
    {
      "cell_type": "markdown",
      "metadata": {
        "id": "q6SVOXJQBH-1"
      },
      "source": [
        "**La fonction reduce()**\n",
        "<p>\n",
        "La fonction reduce,contrairement aux fonctions map() et filter(), renvoie une valeur et non une liste.Elle permet de renvoyer une information concernant une liste passée en paramètre, par exemple: la valeur maximale, la somme des éléments d'une liste, etc.\n",
        "</p>\n",
        "<p>\n",
        "Avant de pouvoir l'utiliser, il faut d'abord l'importer à partir du module functools."
      ]
    },
    {
      "cell_type": "code",
      "metadata": {
        "id": "KeIYSq4-CKKU",
        "colab": {
          "base_uri": "https://localhost:8080/",
          "height": 34
        },
        "outputId": "4742e0a5-a809-4314-b82f-16abcacc6469"
      },
      "source": [
        "from functools import reduce\n",
        "liste=[10,80,-8,70,23]\n",
        "#exemple 1: min d'une liste\n",
        "reduce(min,liste)#renvoie -8\n",
        "#exemple 2: max d'une liste\n",
        "reduce(max,liste)#renvoie 80\n",
        "#exemple 3: somme des éléments de la liste\n",
        "#on va utiliser l'opérateur add qui se trouve dans le module operator.\n",
        "from operator import add\n",
        "reduce(add,liste)#renvoie 175 comme étant la somme des éléments de la liste.\n",
        "\n"
      ],
      "execution_count": null,
      "outputs": [
        {
          "output_type": "execute_result",
          "data": {
            "text/plain": [
              "175"
            ]
          },
          "metadata": {
            "tags": []
          },
          "execution_count": 75
        }
      ]
    }
  ]
}