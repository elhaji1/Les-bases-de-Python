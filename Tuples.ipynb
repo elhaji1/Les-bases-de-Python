{
  "nbformat": 4,
  "nbformat_minor": 0,
  "metadata": {
    "colab": {
      "name": "Tuples.ipynb",
      "provenance": [],
      "authorship_tag": "ABX9TyM/KriaJqlxVTBM+eOivlPW"
    },
    "kernelspec": {
      "name": "python3",
      "display_name": "Python 3"
    },
    "language_info": {
      "name": "python"
    }
  },
  "cells": [
    {
      "cell_type": "markdown",
      "metadata": {
        "id": "-71gEIvP0vtq"
      },
      "source": [
        "## <font color=blue> Objet Tuple</font>\n",
        "Un objet **Tuple** est une séquence de valeur (numérique et/ou alphanumérique) dont les éléments sont indiqués entre paranthèse et séparés par des virgules.\n",
        "<p>\n",
        "A la **différence des listes**,les éléments d'un typle ne peuvent pas être modifiés, cependant il est possible d'extraires ces éléments pour en créer d'autres objets"
      ]
    },
    {
      "cell_type": "markdown",
      "metadata": {
        "id": "Av-ZgMQ_15YS"
      },
      "source": [
        "## <font color=blue> Créer un Objet Tuple</font>"
      ]
    },
    {
      "cell_type": "code",
      "metadata": {
        "colab": {
          "base_uri": "https://localhost:8080/"
        },
        "id": "ti284ERFz7AO",
        "outputId": "01373b91-1427-46bd-e826-be57682b9868"
      },
      "source": [
        "#créer un tuple\n",
        "t1=(1,2,3,4)\n",
        "t2=(\"ilham\",12,20.0,\"Laundi\")\n",
        "t3=tuple(range(10))\n",
        "t4=1,2,3,4\n",
        "t5=(12,)\n",
        "t3"
      ],
      "execution_count": null,
      "outputs": [
        {
          "output_type": "execute_result",
          "data": {
            "text/plain": [
              "(0, 1, 2, 3, 4, 5, 6, 7, 8, 9)"
            ]
          },
          "metadata": {
            "tags": []
          },
          "execution_count": 1
        }
      ]
    },
    {
      "cell_type": "markdown",
      "metadata": {
        "id": "cShaaXTj2GxW"
      },
      "source": [
        "## <font color=blue> Indiçage des tuples</font>\n"
      ]
    },
    {
      "cell_type": "code",
      "metadata": {
        "id": "gMmIXg3r2I8K"
      },
      "source": [
        "T=tuple(range(1,9))\n",
        "T[0]#renvoie le premoier élément du tuple (1)\n",
        "T[-1]##renvoie le premoier élément du tuple (8)\n",
        "T[:]#renvoie tous les éléments du tuple\n",
        "T[:4]#renvoie tous les élments à partir de l'indice 0 à 3 (indice 4 est exclus)\n",
        "T[4:6]# renvoie les éléments ayant les indices de 4 à 5 (6 est exclus)"
      ],
      "execution_count": null,
      "outputs": []
    }
  ]
}